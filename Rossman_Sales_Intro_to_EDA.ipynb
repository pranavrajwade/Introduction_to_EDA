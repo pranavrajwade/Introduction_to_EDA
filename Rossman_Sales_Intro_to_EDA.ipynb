{
  "nbformat": 4,
  "nbformat_minor": 0,
  "metadata": {
    "colab": {
      "name": "Rossman_Sales_Intro_to_EDA.ipynb",
      "provenance": [],
      "collapsed_sections": [],
      "include_colab_link": true
    },
    "kernelspec": {
      "name": "python3",
      "display_name": "Python 3"
    },
    "accelerator": "GPU"
  },
  "cells": [
    {
      "cell_type": "markdown",
      "metadata": {
        "id": "view-in-github",
        "colab_type": "text"
      },
      "source": [
        "<a href=\"https://colab.research.google.com/github/pranavrajwade/Introduction_to_EDA/blob/master/Rossman_Sales_Intro_to_EDA.ipynb\" target=\"_parent\"><img src=\"https://colab.research.google.com/assets/colab-badge.svg\" alt=\"Open In Colab\"/></a>"
      ]
    },
    {
      "cell_type": "code",
      "metadata": {
        "id": "NTIxuG9hucZt",
        "colab_type": "code",
        "colab": {}
      },
      "source": [
        ""
      ],
      "execution_count": 0,
      "outputs": []
    },
    {
      "cell_type": "markdown",
      "metadata": {
        "id": "aNkzraBKoG-x",
        "colab_type": "text"
      },
      "source": [
        "# Introduction to Exploratory Data Analysis -  Rossmann Sales Data"
      ]
    },
    {
      "cell_type": "markdown",
      "metadata": {
        "id": "f8XEuKej-IeC",
        "colab_type": "text"
      },
      "source": [
        "**What is Exploratory Data Analysis?**\n",
        "\n",
        "Exploratory data analysis (EDA) is a crucial component of data analytics which allows you to develop the gist of what your data look like and what kinds of questions might be answered by them."
      ]
    },
    {
      "cell_type": "markdown",
      "metadata": {
        "id": "7BJRek7SpaNW",
        "colab_type": "text"
      },
      "source": [
        "## Importing Libraries"
      ]
    },
    {
      "cell_type": "code",
      "metadata": {
        "id": "ORpfbQUsoXD7",
        "colab_type": "code",
        "colab": {}
      },
      "source": [
        "# importing libraries\n",
        "\n",
        "import pandas as pd\n",
        "import plotly as plot\n",
        "import numpy as np\n",
        "import datetime as dt\n",
        "import os\n",
        "\n",
        "import seaborn as sns\n",
        "import matplotlib.pyplot as plt\n",
        "import matplotlib.ticker as ticker\n",
        "from scipy import stats"
      ],
      "execution_count": 0,
      "outputs": []
    },
    {
      "cell_type": "markdown",
      "metadata": {
        "id": "Emu0BNRvYZPb",
        "colab_type": "text"
      },
      "source": [
        "## Downloading Data"
      ]
    },
    {
      "cell_type": "code",
      "metadata": {
        "id": "W80JArJEcEZD",
        "colab_type": "code",
        "colab": {}
      },
      "source": [
        "KAGGLEUSERNAME = \"pranavra\""
      ],
      "execution_count": 0,
      "outputs": []
    },
    {
      "cell_type": "code",
      "metadata": {
        "id": "3gpLR8rtcEOm",
        "colab_type": "code",
        "colab": {}
      },
      "source": [
        "KAGGLEKEY = \"148ff57fe0b98b1b1de08ee4f7dd5c0e\""
      ],
      "execution_count": 0,
      "outputs": []
    },
    {
      "cell_type": "code",
      "metadata": {
        "id": "IejHx6E_N1E_",
        "colab_type": "code",
        "colab": {}
      },
      "source": [
        "if '.kaggle' not in os.listdir('/root'):\n",
        "    !mkdir ~/.kaggle\n",
        "!touch /root/.kaggle/kaggle.json\n",
        "!chmod 666 /root/.kaggle/kaggle.json\n",
        "with open('/root/.kaggle/kaggle.json', 'w') as f:\n",
        "    f.write('{\"username\":\"%s\",\"key\":\"%s\"}' % (KAGGLEUSERNAME, KAGGLEKEY))\n",
        "!chmod 600 /root/.kaggle/kaggle.json"
      ],
      "execution_count": 0,
      "outputs": []
    },
    {
      "cell_type": "code",
      "metadata": {
        "id": "n6zIp3hrWkgL",
        "colab_type": "code",
        "outputId": "7f82dd51-74b9-4693-c9ea-258b66f8bc18",
        "colab": {
          "base_uri": "https://localhost:8080/",
          "height": 266
        }
      },
      "source": [
        "!kaggle competitions download rossmann-store-sales\n",
        "!ls"
      ],
      "execution_count": 0,
      "outputs": [
        {
          "output_type": "stream",
          "text": [
            "Warning: Looks like you're using an outdated API Version, please consider updating (server 1.5.6 / client 1.5.4)\n",
            "Downloading test.csv.zip to /content\n",
            "\r  0% 0.00/192k [00:00<?, ?B/s]\n",
            "\r100% 192k/192k [00:00<00:00, 70.8MB/s]\n",
            "Downloading train.csv.zip to /content\n",
            " 75% 5.00M/6.71M [00:00<00:00, 7.33MB/s]\n",
            "100% 6.71M/6.71M [00:00<00:00, 9.16MB/s]\n",
            "Downloading store.csv to /content\n",
            "  0% 0.00/44.0k [00:00<?, ?B/s]\n",
            "100% 44.0k/44.0k [00:00<00:00, 44.8MB/s]\n",
            "Downloading sample_submission.csv to /content\n",
            "  0% 0.00/310k [00:00<?, ?B/s]\n",
            "100% 310k/310k [00:00<00:00, 103MB/s]\n",
            "sample_data  sample_submission.csv  store.csv  test.csv.zip  train.csv.zip\n"
          ],
          "name": "stdout"
        }
      ]
    },
    {
      "cell_type": "markdown",
      "metadata": {
        "id": "feqKxloaYdeE",
        "colab_type": "text"
      },
      "source": [
        "## Loading Data"
      ]
    },
    {
      "cell_type": "code",
      "metadata": {
        "id": "UmiY9eJcZ71r",
        "colab_type": "code",
        "colab": {}
      },
      "source": [
        "store = pd.read_csv('/content/store.csv', sep=',')\n",
        "test = pd.read_csv('/content/test.csv.zip', compression='zip', header=0, sep=',', quotechar='\"')\n",
        "train = pd.read_csv('/content/train.csv.zip', compression='zip', header=0, sep=',', quotechar='\"', low_memory=False)"
      ],
      "execution_count": 0,
      "outputs": []
    },
    {
      "cell_type": "markdown",
      "metadata": {
        "id": "aa3i-q81YiBL",
        "colab_type": "text"
      },
      "source": [
        "### Store Data"
      ]
    },
    {
      "cell_type": "code",
      "metadata": {
        "id": "MSl88NPd5EAj",
        "colab_type": "code",
        "outputId": "ac2e14d1-25cb-4e0f-d563-fd7a37da1834",
        "colab": {
          "base_uri": "https://localhost:8080/",
          "height": 214
        }
      },
      "source": [
        "store.head()"
      ],
      "execution_count": 0,
      "outputs": [
        {
          "output_type": "execute_result",
          "data": {
            "text/html": [
              "<div>\n",
              "<style scoped>\n",
              "    .dataframe tbody tr th:only-of-type {\n",
              "        vertical-align: middle;\n",
              "    }\n",
              "\n",
              "    .dataframe tbody tr th {\n",
              "        vertical-align: top;\n",
              "    }\n",
              "\n",
              "    .dataframe thead th {\n",
              "        text-align: right;\n",
              "    }\n",
              "</style>\n",
              "<table border=\"1\" class=\"dataframe\">\n",
              "  <thead>\n",
              "    <tr style=\"text-align: right;\">\n",
              "      <th></th>\n",
              "      <th>Store</th>\n",
              "      <th>StoreType</th>\n",
              "      <th>Assortment</th>\n",
              "      <th>CompetitionDistance</th>\n",
              "      <th>CompetitionOpenSinceMonth</th>\n",
              "      <th>CompetitionOpenSinceYear</th>\n",
              "      <th>Promo2</th>\n",
              "      <th>Promo2SinceWeek</th>\n",
              "      <th>Promo2SinceYear</th>\n",
              "      <th>PromoInterval</th>\n",
              "    </tr>\n",
              "  </thead>\n",
              "  <tbody>\n",
              "    <tr>\n",
              "      <th>0</th>\n",
              "      <td>1</td>\n",
              "      <td>c</td>\n",
              "      <td>a</td>\n",
              "      <td>1270.0</td>\n",
              "      <td>9.0</td>\n",
              "      <td>2008.0</td>\n",
              "      <td>0</td>\n",
              "      <td>NaN</td>\n",
              "      <td>NaN</td>\n",
              "      <td>NaN</td>\n",
              "    </tr>\n",
              "    <tr>\n",
              "      <th>1</th>\n",
              "      <td>2</td>\n",
              "      <td>a</td>\n",
              "      <td>a</td>\n",
              "      <td>570.0</td>\n",
              "      <td>11.0</td>\n",
              "      <td>2007.0</td>\n",
              "      <td>1</td>\n",
              "      <td>13.0</td>\n",
              "      <td>2010.0</td>\n",
              "      <td>Jan,Apr,Jul,Oct</td>\n",
              "    </tr>\n",
              "    <tr>\n",
              "      <th>2</th>\n",
              "      <td>3</td>\n",
              "      <td>a</td>\n",
              "      <td>a</td>\n",
              "      <td>14130.0</td>\n",
              "      <td>12.0</td>\n",
              "      <td>2006.0</td>\n",
              "      <td>1</td>\n",
              "      <td>14.0</td>\n",
              "      <td>2011.0</td>\n",
              "      <td>Jan,Apr,Jul,Oct</td>\n",
              "    </tr>\n",
              "    <tr>\n",
              "      <th>3</th>\n",
              "      <td>4</td>\n",
              "      <td>c</td>\n",
              "      <td>c</td>\n",
              "      <td>620.0</td>\n",
              "      <td>9.0</td>\n",
              "      <td>2009.0</td>\n",
              "      <td>0</td>\n",
              "      <td>NaN</td>\n",
              "      <td>NaN</td>\n",
              "      <td>NaN</td>\n",
              "    </tr>\n",
              "    <tr>\n",
              "      <th>4</th>\n",
              "      <td>5</td>\n",
              "      <td>a</td>\n",
              "      <td>a</td>\n",
              "      <td>29910.0</td>\n",
              "      <td>4.0</td>\n",
              "      <td>2015.0</td>\n",
              "      <td>0</td>\n",
              "      <td>NaN</td>\n",
              "      <td>NaN</td>\n",
              "      <td>NaN</td>\n",
              "    </tr>\n",
              "  </tbody>\n",
              "</table>\n",
              "</div>"
            ],
            "text/plain": [
              "   Store StoreType  ... Promo2SinceYear    PromoInterval\n",
              "0      1         c  ...             NaN              NaN\n",
              "1      2         a  ...          2010.0  Jan,Apr,Jul,Oct\n",
              "2      3         a  ...          2011.0  Jan,Apr,Jul,Oct\n",
              "3      4         c  ...             NaN              NaN\n",
              "4      5         a  ...             NaN              NaN\n",
              "\n",
              "[5 rows x 10 columns]"
            ]
          },
          "metadata": {
            "tags": []
          },
          "execution_count": 7
        }
      ]
    },
    {
      "cell_type": "code",
      "metadata": {
        "id": "_sHjKe7f4S9H",
        "colab_type": "code",
        "outputId": "ef1f07b8-df4b-4c82-9921-b2d52deb5fcd",
        "colab": {
          "base_uri": "https://localhost:8080/",
          "height": 35
        }
      },
      "source": [
        "print('Store data dimensions : {}'.format(store.shape))"
      ],
      "execution_count": 0,
      "outputs": [
        {
          "output_type": "stream",
          "text": [
            "Store data dimensions : (1115, 10)\n"
          ],
          "name": "stdout"
        }
      ]
    },
    {
      "cell_type": "code",
      "metadata": {
        "id": "mzteor986fE-",
        "colab_type": "code",
        "outputId": "5e5b9011-e91e-487f-8848-2842bc831cf4",
        "colab": {
          "base_uri": "https://localhost:8080/",
          "height": 270
        }
      },
      "source": [
        "print('Primary Statistics for Store Data : ')\n",
        "store.describe().T"
      ],
      "execution_count": 0,
      "outputs": [
        {
          "output_type": "stream",
          "text": [
            "Primary Statistics for Store Data : \n"
          ],
          "name": "stdout"
        },
        {
          "output_type": "execute_result",
          "data": {
            "text/html": [
              "<div>\n",
              "<style scoped>\n",
              "    .dataframe tbody tr th:only-of-type {\n",
              "        vertical-align: middle;\n",
              "    }\n",
              "\n",
              "    .dataframe tbody tr th {\n",
              "        vertical-align: top;\n",
              "    }\n",
              "\n",
              "    .dataframe thead th {\n",
              "        text-align: right;\n",
              "    }\n",
              "</style>\n",
              "<table border=\"1\" class=\"dataframe\">\n",
              "  <thead>\n",
              "    <tr style=\"text-align: right;\">\n",
              "      <th></th>\n",
              "      <th>count</th>\n",
              "      <th>mean</th>\n",
              "      <th>std</th>\n",
              "      <th>min</th>\n",
              "      <th>25%</th>\n",
              "      <th>50%</th>\n",
              "      <th>75%</th>\n",
              "      <th>max</th>\n",
              "    </tr>\n",
              "  </thead>\n",
              "  <tbody>\n",
              "    <tr>\n",
              "      <th>Store</th>\n",
              "      <td>1115.0</td>\n",
              "      <td>558.000000</td>\n",
              "      <td>322.017080</td>\n",
              "      <td>1.0</td>\n",
              "      <td>279.5</td>\n",
              "      <td>558.0</td>\n",
              "      <td>836.5</td>\n",
              "      <td>1115.0</td>\n",
              "    </tr>\n",
              "    <tr>\n",
              "      <th>CompetitionDistance</th>\n",
              "      <td>1112.0</td>\n",
              "      <td>5404.901079</td>\n",
              "      <td>7663.174720</td>\n",
              "      <td>20.0</td>\n",
              "      <td>717.5</td>\n",
              "      <td>2325.0</td>\n",
              "      <td>6882.5</td>\n",
              "      <td>75860.0</td>\n",
              "    </tr>\n",
              "    <tr>\n",
              "      <th>CompetitionOpenSinceMonth</th>\n",
              "      <td>761.0</td>\n",
              "      <td>7.224704</td>\n",
              "      <td>3.212348</td>\n",
              "      <td>1.0</td>\n",
              "      <td>4.0</td>\n",
              "      <td>8.0</td>\n",
              "      <td>10.0</td>\n",
              "      <td>12.0</td>\n",
              "    </tr>\n",
              "    <tr>\n",
              "      <th>CompetitionOpenSinceYear</th>\n",
              "      <td>761.0</td>\n",
              "      <td>2008.668857</td>\n",
              "      <td>6.195983</td>\n",
              "      <td>1900.0</td>\n",
              "      <td>2006.0</td>\n",
              "      <td>2010.0</td>\n",
              "      <td>2013.0</td>\n",
              "      <td>2015.0</td>\n",
              "    </tr>\n",
              "    <tr>\n",
              "      <th>Promo2</th>\n",
              "      <td>1115.0</td>\n",
              "      <td>0.512108</td>\n",
              "      <td>0.500078</td>\n",
              "      <td>0.0</td>\n",
              "      <td>0.0</td>\n",
              "      <td>1.0</td>\n",
              "      <td>1.0</td>\n",
              "      <td>1.0</td>\n",
              "    </tr>\n",
              "    <tr>\n",
              "      <th>Promo2SinceWeek</th>\n",
              "      <td>571.0</td>\n",
              "      <td>23.595447</td>\n",
              "      <td>14.141984</td>\n",
              "      <td>1.0</td>\n",
              "      <td>13.0</td>\n",
              "      <td>22.0</td>\n",
              "      <td>37.0</td>\n",
              "      <td>50.0</td>\n",
              "    </tr>\n",
              "    <tr>\n",
              "      <th>Promo2SinceYear</th>\n",
              "      <td>571.0</td>\n",
              "      <td>2011.763573</td>\n",
              "      <td>1.674935</td>\n",
              "      <td>2009.0</td>\n",
              "      <td>2011.0</td>\n",
              "      <td>2012.0</td>\n",
              "      <td>2013.0</td>\n",
              "      <td>2015.0</td>\n",
              "    </tr>\n",
              "  </tbody>\n",
              "</table>\n",
              "</div>"
            ],
            "text/plain": [
              "                            count         mean  ...     75%      max\n",
              "Store                      1115.0   558.000000  ...   836.5   1115.0\n",
              "CompetitionDistance        1112.0  5404.901079  ...  6882.5  75860.0\n",
              "CompetitionOpenSinceMonth   761.0     7.224704  ...    10.0     12.0\n",
              "CompetitionOpenSinceYear    761.0  2008.668857  ...  2013.0   2015.0\n",
              "Promo2                     1115.0     0.512108  ...     1.0      1.0\n",
              "Promo2SinceWeek             571.0    23.595447  ...    37.0     50.0\n",
              "Promo2SinceYear             571.0  2011.763573  ...  2013.0   2015.0\n",
              "\n",
              "[7 rows x 8 columns]"
            ]
          },
          "metadata": {
            "tags": []
          },
          "execution_count": 9
        }
      ]
    },
    {
      "cell_type": "markdown",
      "metadata": {
        "id": "G7GB8glFZ3b2",
        "colab_type": "text"
      },
      "source": [
        "### Train Data"
      ]
    },
    {
      "cell_type": "code",
      "metadata": {
        "id": "m_BeJx7oFQnO",
        "colab_type": "code",
        "outputId": "3f729e19-0f0b-4b83-f0e9-c32257ed31d1",
        "colab": {
          "base_uri": "https://localhost:8080/",
          "height": 194
        }
      },
      "source": [
        "train.head()"
      ],
      "execution_count": 0,
      "outputs": [
        {
          "output_type": "execute_result",
          "data": {
            "text/html": [
              "<div>\n",
              "<style scoped>\n",
              "    .dataframe tbody tr th:only-of-type {\n",
              "        vertical-align: middle;\n",
              "    }\n",
              "\n",
              "    .dataframe tbody tr th {\n",
              "        vertical-align: top;\n",
              "    }\n",
              "\n",
              "    .dataframe thead th {\n",
              "        text-align: right;\n",
              "    }\n",
              "</style>\n",
              "<table border=\"1\" class=\"dataframe\">\n",
              "  <thead>\n",
              "    <tr style=\"text-align: right;\">\n",
              "      <th></th>\n",
              "      <th>Store</th>\n",
              "      <th>DayOfWeek</th>\n",
              "      <th>Date</th>\n",
              "      <th>Sales</th>\n",
              "      <th>Customers</th>\n",
              "      <th>Open</th>\n",
              "      <th>Promo</th>\n",
              "      <th>StateHoliday</th>\n",
              "      <th>SchoolHoliday</th>\n",
              "    </tr>\n",
              "  </thead>\n",
              "  <tbody>\n",
              "    <tr>\n",
              "      <th>0</th>\n",
              "      <td>1</td>\n",
              "      <td>5</td>\n",
              "      <td>2015-07-31</td>\n",
              "      <td>5263</td>\n",
              "      <td>555</td>\n",
              "      <td>1</td>\n",
              "      <td>1</td>\n",
              "      <td>0</td>\n",
              "      <td>1</td>\n",
              "    </tr>\n",
              "    <tr>\n",
              "      <th>1</th>\n",
              "      <td>2</td>\n",
              "      <td>5</td>\n",
              "      <td>2015-07-31</td>\n",
              "      <td>6064</td>\n",
              "      <td>625</td>\n",
              "      <td>1</td>\n",
              "      <td>1</td>\n",
              "      <td>0</td>\n",
              "      <td>1</td>\n",
              "    </tr>\n",
              "    <tr>\n",
              "      <th>2</th>\n",
              "      <td>3</td>\n",
              "      <td>5</td>\n",
              "      <td>2015-07-31</td>\n",
              "      <td>8314</td>\n",
              "      <td>821</td>\n",
              "      <td>1</td>\n",
              "      <td>1</td>\n",
              "      <td>0</td>\n",
              "      <td>1</td>\n",
              "    </tr>\n",
              "    <tr>\n",
              "      <th>3</th>\n",
              "      <td>4</td>\n",
              "      <td>5</td>\n",
              "      <td>2015-07-31</td>\n",
              "      <td>13995</td>\n",
              "      <td>1498</td>\n",
              "      <td>1</td>\n",
              "      <td>1</td>\n",
              "      <td>0</td>\n",
              "      <td>1</td>\n",
              "    </tr>\n",
              "    <tr>\n",
              "      <th>4</th>\n",
              "      <td>5</td>\n",
              "      <td>5</td>\n",
              "      <td>2015-07-31</td>\n",
              "      <td>4822</td>\n",
              "      <td>559</td>\n",
              "      <td>1</td>\n",
              "      <td>1</td>\n",
              "      <td>0</td>\n",
              "      <td>1</td>\n",
              "    </tr>\n",
              "  </tbody>\n",
              "</table>\n",
              "</div>"
            ],
            "text/plain": [
              "   Store  DayOfWeek        Date  Sales  ...  Open  Promo  StateHoliday SchoolHoliday\n",
              "0      1          5  2015-07-31   5263  ...     1      1             0             1\n",
              "1      2          5  2015-07-31   6064  ...     1      1             0             1\n",
              "2      3          5  2015-07-31   8314  ...     1      1             0             1\n",
              "3      4          5  2015-07-31  13995  ...     1      1             0             1\n",
              "4      5          5  2015-07-31   4822  ...     1      1             0             1\n",
              "\n",
              "[5 rows x 9 columns]"
            ]
          },
          "metadata": {
            "tags": []
          },
          "execution_count": 10
        }
      ]
    },
    {
      "cell_type": "code",
      "metadata": {
        "id": "wTQqWben6lvS",
        "colab_type": "code",
        "outputId": "647f496c-256c-4d6c-8bce-a8eccd434273",
        "colab": {
          "base_uri": "https://localhost:8080/",
          "height": 35
        }
      },
      "source": [
        "print('Train data dimensions : {}'.format(train.shape))"
      ],
      "execution_count": 0,
      "outputs": [
        {
          "output_type": "stream",
          "text": [
            "Train data dimensions : (1017209, 9)\n"
          ],
          "name": "stdout"
        }
      ]
    },
    {
      "cell_type": "code",
      "metadata": {
        "id": "_RUt2QRB6lsE",
        "colab_type": "code",
        "outputId": "8af83217-8e30-4415-af04-148f1696d79c",
        "colab": {
          "base_uri": "https://localhost:8080/",
          "height": 270
        }
      },
      "source": [
        "print('Primary Statistics for Train Data')\n",
        "train.describe().T"
      ],
      "execution_count": 0,
      "outputs": [
        {
          "output_type": "stream",
          "text": [
            "Primary Statistics for Train Data\n"
          ],
          "name": "stdout"
        },
        {
          "output_type": "execute_result",
          "data": {
            "text/html": [
              "<div>\n",
              "<style scoped>\n",
              "    .dataframe tbody tr th:only-of-type {\n",
              "        vertical-align: middle;\n",
              "    }\n",
              "\n",
              "    .dataframe tbody tr th {\n",
              "        vertical-align: top;\n",
              "    }\n",
              "\n",
              "    .dataframe thead th {\n",
              "        text-align: right;\n",
              "    }\n",
              "</style>\n",
              "<table border=\"1\" class=\"dataframe\">\n",
              "  <thead>\n",
              "    <tr style=\"text-align: right;\">\n",
              "      <th></th>\n",
              "      <th>count</th>\n",
              "      <th>mean</th>\n",
              "      <th>std</th>\n",
              "      <th>min</th>\n",
              "      <th>25%</th>\n",
              "      <th>50%</th>\n",
              "      <th>75%</th>\n",
              "      <th>max</th>\n",
              "    </tr>\n",
              "  </thead>\n",
              "  <tbody>\n",
              "    <tr>\n",
              "      <th>Store</th>\n",
              "      <td>1017209.0</td>\n",
              "      <td>558.429727</td>\n",
              "      <td>321.908651</td>\n",
              "      <td>1.0</td>\n",
              "      <td>280.0</td>\n",
              "      <td>558.0</td>\n",
              "      <td>838.0</td>\n",
              "      <td>1115.0</td>\n",
              "    </tr>\n",
              "    <tr>\n",
              "      <th>DayOfWeek</th>\n",
              "      <td>1017209.0</td>\n",
              "      <td>3.998341</td>\n",
              "      <td>1.997391</td>\n",
              "      <td>1.0</td>\n",
              "      <td>2.0</td>\n",
              "      <td>4.0</td>\n",
              "      <td>6.0</td>\n",
              "      <td>7.0</td>\n",
              "    </tr>\n",
              "    <tr>\n",
              "      <th>Sales</th>\n",
              "      <td>1017209.0</td>\n",
              "      <td>5773.818972</td>\n",
              "      <td>3849.926175</td>\n",
              "      <td>0.0</td>\n",
              "      <td>3727.0</td>\n",
              "      <td>5744.0</td>\n",
              "      <td>7856.0</td>\n",
              "      <td>41551.0</td>\n",
              "    </tr>\n",
              "    <tr>\n",
              "      <th>Customers</th>\n",
              "      <td>1017209.0</td>\n",
              "      <td>633.145946</td>\n",
              "      <td>464.411734</td>\n",
              "      <td>0.0</td>\n",
              "      <td>405.0</td>\n",
              "      <td>609.0</td>\n",
              "      <td>837.0</td>\n",
              "      <td>7388.0</td>\n",
              "    </tr>\n",
              "    <tr>\n",
              "      <th>Open</th>\n",
              "      <td>1017209.0</td>\n",
              "      <td>0.830107</td>\n",
              "      <td>0.375539</td>\n",
              "      <td>0.0</td>\n",
              "      <td>1.0</td>\n",
              "      <td>1.0</td>\n",
              "      <td>1.0</td>\n",
              "      <td>1.0</td>\n",
              "    </tr>\n",
              "    <tr>\n",
              "      <th>Promo</th>\n",
              "      <td>1017209.0</td>\n",
              "      <td>0.381515</td>\n",
              "      <td>0.485759</td>\n",
              "      <td>0.0</td>\n",
              "      <td>0.0</td>\n",
              "      <td>0.0</td>\n",
              "      <td>1.0</td>\n",
              "      <td>1.0</td>\n",
              "    </tr>\n",
              "    <tr>\n",
              "      <th>SchoolHoliday</th>\n",
              "      <td>1017209.0</td>\n",
              "      <td>0.178647</td>\n",
              "      <td>0.383056</td>\n",
              "      <td>0.0</td>\n",
              "      <td>0.0</td>\n",
              "      <td>0.0</td>\n",
              "      <td>0.0</td>\n",
              "      <td>1.0</td>\n",
              "    </tr>\n",
              "  </tbody>\n",
              "</table>\n",
              "</div>"
            ],
            "text/plain": [
              "                   count         mean          std  ...     50%     75%      max\n",
              "Store          1017209.0   558.429727   321.908651  ...   558.0   838.0   1115.0\n",
              "DayOfWeek      1017209.0     3.998341     1.997391  ...     4.0     6.0      7.0\n",
              "Sales          1017209.0  5773.818972  3849.926175  ...  5744.0  7856.0  41551.0\n",
              "Customers      1017209.0   633.145946   464.411734  ...   609.0   837.0   7388.0\n",
              "Open           1017209.0     0.830107     0.375539  ...     1.0     1.0      1.0\n",
              "Promo          1017209.0     0.381515     0.485759  ...     0.0     1.0      1.0\n",
              "SchoolHoliday  1017209.0     0.178647     0.383056  ...     0.0     0.0      1.0\n",
              "\n",
              "[7 rows x 8 columns]"
            ]
          },
          "metadata": {
            "tags": []
          },
          "execution_count": 12
        }
      ]
    },
    {
      "cell_type": "markdown",
      "metadata": {
        "id": "CZg2xbdcabPX",
        "colab_type": "text"
      },
      "source": [
        "### Test Data"
      ]
    },
    {
      "cell_type": "code",
      "metadata": {
        "id": "d0vsl15EGTxc",
        "colab_type": "code",
        "outputId": "2d77c9d4-edc6-42b0-c522-b4b82cd4936c",
        "colab": {
          "base_uri": "https://localhost:8080/",
          "height": 194
        }
      },
      "source": [
        "test.head()"
      ],
      "execution_count": 0,
      "outputs": [
        {
          "output_type": "execute_result",
          "data": {
            "text/html": [
              "<div>\n",
              "<style scoped>\n",
              "    .dataframe tbody tr th:only-of-type {\n",
              "        vertical-align: middle;\n",
              "    }\n",
              "\n",
              "    .dataframe tbody tr th {\n",
              "        vertical-align: top;\n",
              "    }\n",
              "\n",
              "    .dataframe thead th {\n",
              "        text-align: right;\n",
              "    }\n",
              "</style>\n",
              "<table border=\"1\" class=\"dataframe\">\n",
              "  <thead>\n",
              "    <tr style=\"text-align: right;\">\n",
              "      <th></th>\n",
              "      <th>Id</th>\n",
              "      <th>Store</th>\n",
              "      <th>DayOfWeek</th>\n",
              "      <th>Date</th>\n",
              "      <th>Open</th>\n",
              "      <th>Promo</th>\n",
              "      <th>StateHoliday</th>\n",
              "      <th>SchoolHoliday</th>\n",
              "    </tr>\n",
              "  </thead>\n",
              "  <tbody>\n",
              "    <tr>\n",
              "      <th>0</th>\n",
              "      <td>1</td>\n",
              "      <td>1</td>\n",
              "      <td>4</td>\n",
              "      <td>2015-09-17</td>\n",
              "      <td>1.0</td>\n",
              "      <td>1</td>\n",
              "      <td>0</td>\n",
              "      <td>0</td>\n",
              "    </tr>\n",
              "    <tr>\n",
              "      <th>1</th>\n",
              "      <td>2</td>\n",
              "      <td>3</td>\n",
              "      <td>4</td>\n",
              "      <td>2015-09-17</td>\n",
              "      <td>1.0</td>\n",
              "      <td>1</td>\n",
              "      <td>0</td>\n",
              "      <td>0</td>\n",
              "    </tr>\n",
              "    <tr>\n",
              "      <th>2</th>\n",
              "      <td>3</td>\n",
              "      <td>7</td>\n",
              "      <td>4</td>\n",
              "      <td>2015-09-17</td>\n",
              "      <td>1.0</td>\n",
              "      <td>1</td>\n",
              "      <td>0</td>\n",
              "      <td>0</td>\n",
              "    </tr>\n",
              "    <tr>\n",
              "      <th>3</th>\n",
              "      <td>4</td>\n",
              "      <td>8</td>\n",
              "      <td>4</td>\n",
              "      <td>2015-09-17</td>\n",
              "      <td>1.0</td>\n",
              "      <td>1</td>\n",
              "      <td>0</td>\n",
              "      <td>0</td>\n",
              "    </tr>\n",
              "    <tr>\n",
              "      <th>4</th>\n",
              "      <td>5</td>\n",
              "      <td>9</td>\n",
              "      <td>4</td>\n",
              "      <td>2015-09-17</td>\n",
              "      <td>1.0</td>\n",
              "      <td>1</td>\n",
              "      <td>0</td>\n",
              "      <td>0</td>\n",
              "    </tr>\n",
              "  </tbody>\n",
              "</table>\n",
              "</div>"
            ],
            "text/plain": [
              "   Id  Store  DayOfWeek        Date  Open  Promo StateHoliday  SchoolHoliday\n",
              "0   1      1          4  2015-09-17   1.0      1            0              0\n",
              "1   2      3          4  2015-09-17   1.0      1            0              0\n",
              "2   3      7          4  2015-09-17   1.0      1            0              0\n",
              "3   4      8          4  2015-09-17   1.0      1            0              0\n",
              "4   5      9          4  2015-09-17   1.0      1            0              0"
            ]
          },
          "metadata": {
            "tags": []
          },
          "execution_count": 13
        }
      ]
    },
    {
      "cell_type": "code",
      "metadata": {
        "id": "CECNxTtT6sVE",
        "colab_type": "code",
        "outputId": "532a8b72-0050-4d2b-e2e8-a1088f251665",
        "colab": {
          "base_uri": "https://localhost:8080/",
          "height": 35
        }
      },
      "source": [
        "print('Test data dimensions : {}'.format(test.shape))"
      ],
      "execution_count": 0,
      "outputs": [
        {
          "output_type": "stream",
          "text": [
            "Test data dimensions : (41088, 8)\n"
          ],
          "name": "stdout"
        }
      ]
    },
    {
      "cell_type": "code",
      "metadata": {
        "id": "2K-N9iunJPP6",
        "colab_type": "code",
        "outputId": "f474cc30-38a1-4797-b4b9-0457035525c2",
        "colab": {
          "base_uri": "https://localhost:8080/",
          "height": 241
        }
      },
      "source": [
        "print('Primary Statistics for Test Data : ')\n",
        "test.describe().T"
      ],
      "execution_count": 0,
      "outputs": [
        {
          "output_type": "stream",
          "text": [
            "Primary Statistics for Test Data : \n"
          ],
          "name": "stdout"
        },
        {
          "output_type": "execute_result",
          "data": {
            "text/html": [
              "<div>\n",
              "<style scoped>\n",
              "    .dataframe tbody tr th:only-of-type {\n",
              "        vertical-align: middle;\n",
              "    }\n",
              "\n",
              "    .dataframe tbody tr th {\n",
              "        vertical-align: top;\n",
              "    }\n",
              "\n",
              "    .dataframe thead th {\n",
              "        text-align: right;\n",
              "    }\n",
              "</style>\n",
              "<table border=\"1\" class=\"dataframe\">\n",
              "  <thead>\n",
              "    <tr style=\"text-align: right;\">\n",
              "      <th></th>\n",
              "      <th>count</th>\n",
              "      <th>mean</th>\n",
              "      <th>std</th>\n",
              "      <th>min</th>\n",
              "      <th>25%</th>\n",
              "      <th>50%</th>\n",
              "      <th>75%</th>\n",
              "      <th>max</th>\n",
              "    </tr>\n",
              "  </thead>\n",
              "  <tbody>\n",
              "    <tr>\n",
              "      <th>Id</th>\n",
              "      <td>41088.0</td>\n",
              "      <td>20544.500000</td>\n",
              "      <td>11861.228267</td>\n",
              "      <td>1.0</td>\n",
              "      <td>10272.75</td>\n",
              "      <td>20544.5</td>\n",
              "      <td>30816.25</td>\n",
              "      <td>41088.0</td>\n",
              "    </tr>\n",
              "    <tr>\n",
              "      <th>Store</th>\n",
              "      <td>41088.0</td>\n",
              "      <td>555.899533</td>\n",
              "      <td>320.274496</td>\n",
              "      <td>1.0</td>\n",
              "      <td>279.75</td>\n",
              "      <td>553.5</td>\n",
              "      <td>832.25</td>\n",
              "      <td>1115.0</td>\n",
              "    </tr>\n",
              "    <tr>\n",
              "      <th>DayOfWeek</th>\n",
              "      <td>41088.0</td>\n",
              "      <td>3.979167</td>\n",
              "      <td>2.015481</td>\n",
              "      <td>1.0</td>\n",
              "      <td>2.00</td>\n",
              "      <td>4.0</td>\n",
              "      <td>6.00</td>\n",
              "      <td>7.0</td>\n",
              "    </tr>\n",
              "    <tr>\n",
              "      <th>Open</th>\n",
              "      <td>41077.0</td>\n",
              "      <td>0.854322</td>\n",
              "      <td>0.352787</td>\n",
              "      <td>0.0</td>\n",
              "      <td>1.00</td>\n",
              "      <td>1.0</td>\n",
              "      <td>1.00</td>\n",
              "      <td>1.0</td>\n",
              "    </tr>\n",
              "    <tr>\n",
              "      <th>Promo</th>\n",
              "      <td>41088.0</td>\n",
              "      <td>0.395833</td>\n",
              "      <td>0.489035</td>\n",
              "      <td>0.0</td>\n",
              "      <td>0.00</td>\n",
              "      <td>0.0</td>\n",
              "      <td>1.00</td>\n",
              "      <td>1.0</td>\n",
              "    </tr>\n",
              "    <tr>\n",
              "      <th>SchoolHoliday</th>\n",
              "      <td>41088.0</td>\n",
              "      <td>0.443487</td>\n",
              "      <td>0.496802</td>\n",
              "      <td>0.0</td>\n",
              "      <td>0.00</td>\n",
              "      <td>0.0</td>\n",
              "      <td>1.00</td>\n",
              "      <td>1.0</td>\n",
              "    </tr>\n",
              "  </tbody>\n",
              "</table>\n",
              "</div>"
            ],
            "text/plain": [
              "                 count          mean           std  ...      50%       75%      max\n",
              "Id             41088.0  20544.500000  11861.228267  ...  20544.5  30816.25  41088.0\n",
              "Store          41088.0    555.899533    320.274496  ...    553.5    832.25   1115.0\n",
              "DayOfWeek      41088.0      3.979167      2.015481  ...      4.0      6.00      7.0\n",
              "Open           41077.0      0.854322      0.352787  ...      1.0      1.00      1.0\n",
              "Promo          41088.0      0.395833      0.489035  ...      0.0      1.00      1.0\n",
              "SchoolHoliday  41088.0      0.443487      0.496802  ...      0.0      1.00      1.0\n",
              "\n",
              "[6 rows x 8 columns]"
            ]
          },
          "metadata": {
            "tags": []
          },
          "execution_count": 15
        }
      ]
    },
    {
      "cell_type": "markdown",
      "metadata": {
        "id": "DqdNGcuyMdn2",
        "colab_type": "text"
      },
      "source": [
        "# Exploratory Data Analysis"
      ]
    },
    {
      "cell_type": "markdown",
      "metadata": {
        "id": "IYeNSpY2KhCA",
        "colab_type": "text"
      },
      "source": [
        "## Data Pre processing"
      ]
    },
    {
      "cell_type": "code",
      "metadata": {
        "id": "4Z3ihvJ-KhjE",
        "colab_type": "code",
        "colab": {}
      },
      "source": [
        "#    - Remove entries where the store were not open and the sales were zero\n",
        "#    - Separate Month and Year and one more column with Month_Yr\n",
        "#    - Create a new table by merging store and train tables\n",
        "#    - Any other necessary data cleaning or processing"
      ],
      "execution_count": 0,
      "outputs": []
    },
    {
      "cell_type": "markdown",
      "metadata": {
        "id": "Tfk0wkUPMaWP",
        "colab_type": "text"
      },
      "source": [
        "Discovering closed stores"
      ]
    },
    {
      "cell_type": "markdown",
      "metadata": {
        "id": "Tn9BDA7_fxO-",
        "colab_type": "text"
      },
      "source": [
        "**Note:** Here we will remove all the data where the store was either closed or was open, but has zero sales for the day."
      ]
    },
    {
      "cell_type": "code",
      "metadata": {
        "id": "QkijbyGwkK3p",
        "colab_type": "code",
        "colab": {}
      },
      "source": [
        "total_len = len(train.index)"
      ],
      "execution_count": 0,
      "outputs": []
    },
    {
      "cell_type": "code",
      "metadata": {
        "id": "I1io7Z-MkRXG",
        "colab_type": "code",
        "outputId": "1cef4fb8-d104-49ee-d4b9-25ba117d549d",
        "colab": {
          "base_uri": "https://localhost:8080/",
          "height": 35
        }
      },
      "source": [
        "total_len"
      ],
      "execution_count": 0,
      "outputs": [
        {
          "output_type": "execute_result",
          "data": {
            "text/plain": [
              "1017209"
            ]
          },
          "metadata": {
            "tags": []
          },
          "execution_count": 18
        }
      ]
    },
    {
      "cell_type": "code",
      "metadata": {
        "id": "sQ--E0OJWADl",
        "colab_type": "code",
        "outputId": "880d0c60-7a56-46d5-e592-19f3b57109cc",
        "colab": {
          "base_uri": "https://localhost:8080/",
          "height": 252
        }
      },
      "source": [
        "# Closed Stores\n",
        "\n",
        "train[(train[\"Open\"] == 0)].describe().T"
      ],
      "execution_count": 0,
      "outputs": [
        {
          "output_type": "execute_result",
          "data": {
            "text/html": [
              "<div>\n",
              "<style scoped>\n",
              "    .dataframe tbody tr th:only-of-type {\n",
              "        vertical-align: middle;\n",
              "    }\n",
              "\n",
              "    .dataframe tbody tr th {\n",
              "        vertical-align: top;\n",
              "    }\n",
              "\n",
              "    .dataframe thead th {\n",
              "        text-align: right;\n",
              "    }\n",
              "</style>\n",
              "<table border=\"1\" class=\"dataframe\">\n",
              "  <thead>\n",
              "    <tr style=\"text-align: right;\">\n",
              "      <th></th>\n",
              "      <th>count</th>\n",
              "      <th>mean</th>\n",
              "      <th>std</th>\n",
              "      <th>min</th>\n",
              "      <th>25%</th>\n",
              "      <th>50%</th>\n",
              "      <th>75%</th>\n",
              "      <th>max</th>\n",
              "    </tr>\n",
              "  </thead>\n",
              "  <tbody>\n",
              "    <tr>\n",
              "      <th>Store</th>\n",
              "      <td>172817.0</td>\n",
              "      <td>558.462987</td>\n",
              "      <td>322.771734</td>\n",
              "      <td>1.0</td>\n",
              "      <td>279.0</td>\n",
              "      <td>560.0</td>\n",
              "      <td>839.0</td>\n",
              "      <td>1115.0</td>\n",
              "    </tr>\n",
              "    <tr>\n",
              "      <th>DayOfWeek</th>\n",
              "      <td>172817.0</td>\n",
              "      <td>6.333769</td>\n",
              "      <td>1.547688</td>\n",
              "      <td>1.0</td>\n",
              "      <td>7.0</td>\n",
              "      <td>7.0</td>\n",
              "      <td>7.0</td>\n",
              "      <td>7.0</td>\n",
              "    </tr>\n",
              "    <tr>\n",
              "      <th>Sales</th>\n",
              "      <td>172817.0</td>\n",
              "      <td>0.000000</td>\n",
              "      <td>0.000000</td>\n",
              "      <td>0.0</td>\n",
              "      <td>0.0</td>\n",
              "      <td>0.0</td>\n",
              "      <td>0.0</td>\n",
              "      <td>0.0</td>\n",
              "    </tr>\n",
              "    <tr>\n",
              "      <th>Customers</th>\n",
              "      <td>172817.0</td>\n",
              "      <td>0.000000</td>\n",
              "      <td>0.000000</td>\n",
              "      <td>0.0</td>\n",
              "      <td>0.0</td>\n",
              "      <td>0.0</td>\n",
              "      <td>0.0</td>\n",
              "      <td>0.0</td>\n",
              "    </tr>\n",
              "    <tr>\n",
              "      <th>Open</th>\n",
              "      <td>172817.0</td>\n",
              "      <td>0.000000</td>\n",
              "      <td>0.000000</td>\n",
              "      <td>0.0</td>\n",
              "      <td>0.0</td>\n",
              "      <td>0.0</td>\n",
              "      <td>0.0</td>\n",
              "      <td>0.0</td>\n",
              "    </tr>\n",
              "    <tr>\n",
              "      <th>Promo</th>\n",
              "      <td>172817.0</td>\n",
              "      <td>0.064716</td>\n",
              "      <td>0.246025</td>\n",
              "      <td>0.0</td>\n",
              "      <td>0.0</td>\n",
              "      <td>0.0</td>\n",
              "      <td>0.0</td>\n",
              "      <td>1.0</td>\n",
              "    </tr>\n",
              "    <tr>\n",
              "      <th>SchoolHoliday</th>\n",
              "      <td>172817.0</td>\n",
              "      <td>0.105684</td>\n",
              "      <td>0.307434</td>\n",
              "      <td>0.0</td>\n",
              "      <td>0.0</td>\n",
              "      <td>0.0</td>\n",
              "      <td>0.0</td>\n",
              "      <td>1.0</td>\n",
              "    </tr>\n",
              "  </tbody>\n",
              "</table>\n",
              "</div>"
            ],
            "text/plain": [
              "                  count        mean         std  ...    50%    75%     max\n",
              "Store          172817.0  558.462987  322.771734  ...  560.0  839.0  1115.0\n",
              "DayOfWeek      172817.0    6.333769    1.547688  ...    7.0    7.0     7.0\n",
              "Sales          172817.0    0.000000    0.000000  ...    0.0    0.0     0.0\n",
              "Customers      172817.0    0.000000    0.000000  ...    0.0    0.0     0.0\n",
              "Open           172817.0    0.000000    0.000000  ...    0.0    0.0     0.0\n",
              "Promo          172817.0    0.064716    0.246025  ...    0.0    0.0     1.0\n",
              "SchoolHoliday  172817.0    0.105684    0.307434  ...    0.0    0.0     1.0\n",
              "\n",
              "[7 rows x 8 columns]"
            ]
          },
          "metadata": {
            "tags": []
          },
          "execution_count": 19
        }
      ]
    },
    {
      "cell_type": "markdown",
      "metadata": {
        "id": "v_Y5CF74Meuw",
        "colab_type": "text"
      },
      "source": [
        "### Descovering zero sales open stores"
      ]
    },
    {
      "cell_type": "code",
      "metadata": {
        "id": "gNUrEArsV_-v",
        "colab_type": "code",
        "outputId": "c2e42900-a719-4c56-bb2e-3256478e1e71",
        "colab": {
          "base_uri": "https://localhost:8080/",
          "height": 252
        }
      },
      "source": [
        "# Open Stores with no sales\n",
        "\n",
        "train[(train[\"Open\"] != 0) & (train['Sales'] == 0)].describe().T"
      ],
      "execution_count": 0,
      "outputs": [
        {
          "output_type": "execute_result",
          "data": {
            "text/html": [
              "<div>\n",
              "<style scoped>\n",
              "    .dataframe tbody tr th:only-of-type {\n",
              "        vertical-align: middle;\n",
              "    }\n",
              "\n",
              "    .dataframe tbody tr th {\n",
              "        vertical-align: top;\n",
              "    }\n",
              "\n",
              "    .dataframe thead th {\n",
              "        text-align: right;\n",
              "    }\n",
              "</style>\n",
              "<table border=\"1\" class=\"dataframe\">\n",
              "  <thead>\n",
              "    <tr style=\"text-align: right;\">\n",
              "      <th></th>\n",
              "      <th>count</th>\n",
              "      <th>mean</th>\n",
              "      <th>std</th>\n",
              "      <th>min</th>\n",
              "      <th>25%</th>\n",
              "      <th>50%</th>\n",
              "      <th>75%</th>\n",
              "      <th>max</th>\n",
              "    </tr>\n",
              "  </thead>\n",
              "  <tbody>\n",
              "    <tr>\n",
              "      <th>Store</th>\n",
              "      <td>54.0</td>\n",
              "      <td>582.592593</td>\n",
              "      <td>340.093190</td>\n",
              "      <td>25.0</td>\n",
              "      <td>330.0</td>\n",
              "      <td>662.0</td>\n",
              "      <td>885.75</td>\n",
              "      <td>1100.0</td>\n",
              "    </tr>\n",
              "    <tr>\n",
              "      <th>DayOfWeek</th>\n",
              "      <td>54.0</td>\n",
              "      <td>3.703704</td>\n",
              "      <td>1.312202</td>\n",
              "      <td>1.0</td>\n",
              "      <td>3.0</td>\n",
              "      <td>4.0</td>\n",
              "      <td>4.00</td>\n",
              "      <td>6.0</td>\n",
              "    </tr>\n",
              "    <tr>\n",
              "      <th>Sales</th>\n",
              "      <td>54.0</td>\n",
              "      <td>0.000000</td>\n",
              "      <td>0.000000</td>\n",
              "      <td>0.0</td>\n",
              "      <td>0.0</td>\n",
              "      <td>0.0</td>\n",
              "      <td>0.00</td>\n",
              "      <td>0.0</td>\n",
              "    </tr>\n",
              "    <tr>\n",
              "      <th>Customers</th>\n",
              "      <td>54.0</td>\n",
              "      <td>0.148148</td>\n",
              "      <td>0.786859</td>\n",
              "      <td>0.0</td>\n",
              "      <td>0.0</td>\n",
              "      <td>0.0</td>\n",
              "      <td>0.00</td>\n",
              "      <td>5.0</td>\n",
              "    </tr>\n",
              "    <tr>\n",
              "      <th>Open</th>\n",
              "      <td>54.0</td>\n",
              "      <td>1.000000</td>\n",
              "      <td>0.000000</td>\n",
              "      <td>1.0</td>\n",
              "      <td>1.0</td>\n",
              "      <td>1.0</td>\n",
              "      <td>1.00</td>\n",
              "      <td>1.0</td>\n",
              "    </tr>\n",
              "    <tr>\n",
              "      <th>Promo</th>\n",
              "      <td>54.0</td>\n",
              "      <td>0.388889</td>\n",
              "      <td>0.492076</td>\n",
              "      <td>0.0</td>\n",
              "      <td>0.0</td>\n",
              "      <td>0.0</td>\n",
              "      <td>1.00</td>\n",
              "      <td>1.0</td>\n",
              "    </tr>\n",
              "    <tr>\n",
              "      <th>SchoolHoliday</th>\n",
              "      <td>54.0</td>\n",
              "      <td>0.222222</td>\n",
              "      <td>0.419643</td>\n",
              "      <td>0.0</td>\n",
              "      <td>0.0</td>\n",
              "      <td>0.0</td>\n",
              "      <td>0.00</td>\n",
              "      <td>1.0</td>\n",
              "    </tr>\n",
              "  </tbody>\n",
              "</table>\n",
              "</div>"
            ],
            "text/plain": [
              "               count        mean         std  ...    50%     75%     max\n",
              "Store           54.0  582.592593  340.093190  ...  662.0  885.75  1100.0\n",
              "DayOfWeek       54.0    3.703704    1.312202  ...    4.0    4.00     6.0\n",
              "Sales           54.0    0.000000    0.000000  ...    0.0    0.00     0.0\n",
              "Customers       54.0    0.148148    0.786859  ...    0.0    0.00     5.0\n",
              "Open            54.0    1.000000    0.000000  ...    1.0    1.00     1.0\n",
              "Promo           54.0    0.388889    0.492076  ...    0.0    1.00     1.0\n",
              "SchoolHoliday   54.0    0.222222    0.419643  ...    0.0    0.00     1.0\n",
              "\n",
              "[7 rows x 8 columns]"
            ]
          },
          "metadata": {
            "tags": []
          },
          "execution_count": 20
        }
      ]
    },
    {
      "cell_type": "code",
      "metadata": {
        "id": "tRNWJDt5kXMR",
        "colab_type": "code",
        "colab": {}
      },
      "source": [
        "zero_value = len(train[(train[\"Open\"] == 0)]) + len(train[(train[\"Open\"] != 0) & (train['Sales'] == 0)])"
      ],
      "execution_count": 0,
      "outputs": []
    },
    {
      "cell_type": "code",
      "metadata": {
        "id": "Z9egehf6kXAO",
        "colab_type": "code",
        "outputId": "316f4086-e63a-4180-c5c7-d5a99b0a419c",
        "colab": {
          "base_uri": "https://localhost:8080/",
          "height": 35
        }
      },
      "source": [
        "percent_zero = (zero_value/total_len)*100\n",
        "percent_zero"
      ],
      "execution_count": 0,
      "outputs": [
        {
          "output_type": "execute_result",
          "data": {
            "text/plain": [
              "16.994639253093514"
            ]
          },
          "metadata": {
            "tags": []
          },
          "execution_count": 22
        }
      ]
    },
    {
      "cell_type": "markdown",
      "metadata": {
        "id": "PuXKhczpkWP6",
        "colab_type": "text"
      },
      "source": [
        "**Note** : Approximately 17% of data has zero sales and shall be excluded."
      ]
    },
    {
      "cell_type": "markdown",
      "metadata": {
        "id": "P3YVxkJlMm3L",
        "colab_type": "text"
      },
      "source": [
        "### Removing unnecessary data"
      ]
    },
    {
      "cell_type": "code",
      "metadata": {
        "id": "pukQOD-0T5yJ",
        "colab_type": "code",
        "outputId": "4ccf13c2-8f2a-4be4-c29c-4ff89318fe90",
        "colab": {
          "base_uri": "https://localhost:8080/",
          "height": 252
        }
      },
      "source": [
        "# removing data with closed stores and open stores having zero sales\n",
        "\n",
        "train = train[(train[\"Open\"] != 0) & (train['Sales'] != 0)]\n",
        "train.describe().T"
      ],
      "execution_count": 0,
      "outputs": [
        {
          "output_type": "execute_result",
          "data": {
            "text/html": [
              "<div>\n",
              "<style scoped>\n",
              "    .dataframe tbody tr th:only-of-type {\n",
              "        vertical-align: middle;\n",
              "    }\n",
              "\n",
              "    .dataframe tbody tr th {\n",
              "        vertical-align: top;\n",
              "    }\n",
              "\n",
              "    .dataframe thead th {\n",
              "        text-align: right;\n",
              "    }\n",
              "</style>\n",
              "<table border=\"1\" class=\"dataframe\">\n",
              "  <thead>\n",
              "    <tr style=\"text-align: right;\">\n",
              "      <th></th>\n",
              "      <th>count</th>\n",
              "      <th>mean</th>\n",
              "      <th>std</th>\n",
              "      <th>min</th>\n",
              "      <th>25%</th>\n",
              "      <th>50%</th>\n",
              "      <th>75%</th>\n",
              "      <th>max</th>\n",
              "    </tr>\n",
              "  </thead>\n",
              "  <tbody>\n",
              "    <tr>\n",
              "      <th>Store</th>\n",
              "      <td>844338.0</td>\n",
              "      <td>558.421374</td>\n",
              "      <td>321.730861</td>\n",
              "      <td>1.0</td>\n",
              "      <td>280.0</td>\n",
              "      <td>558.0</td>\n",
              "      <td>837.0</td>\n",
              "      <td>1115.0</td>\n",
              "    </tr>\n",
              "    <tr>\n",
              "      <th>DayOfWeek</th>\n",
              "      <td>844338.0</td>\n",
              "      <td>3.520350</td>\n",
              "      <td>1.723712</td>\n",
              "      <td>1.0</td>\n",
              "      <td>2.0</td>\n",
              "      <td>3.0</td>\n",
              "      <td>5.0</td>\n",
              "      <td>7.0</td>\n",
              "    </tr>\n",
              "    <tr>\n",
              "      <th>Sales</th>\n",
              "      <td>844338.0</td>\n",
              "      <td>6955.959134</td>\n",
              "      <td>3103.815515</td>\n",
              "      <td>46.0</td>\n",
              "      <td>4859.0</td>\n",
              "      <td>6369.0</td>\n",
              "      <td>8360.0</td>\n",
              "      <td>41551.0</td>\n",
              "    </tr>\n",
              "    <tr>\n",
              "      <th>Customers</th>\n",
              "      <td>844338.0</td>\n",
              "      <td>762.777166</td>\n",
              "      <td>401.194153</td>\n",
              "      <td>8.0</td>\n",
              "      <td>519.0</td>\n",
              "      <td>676.0</td>\n",
              "      <td>893.0</td>\n",
              "      <td>7388.0</td>\n",
              "    </tr>\n",
              "    <tr>\n",
              "      <th>Open</th>\n",
              "      <td>844338.0</td>\n",
              "      <td>1.000000</td>\n",
              "      <td>0.000000</td>\n",
              "      <td>1.0</td>\n",
              "      <td>1.0</td>\n",
              "      <td>1.0</td>\n",
              "      <td>1.0</td>\n",
              "      <td>1.0</td>\n",
              "    </tr>\n",
              "    <tr>\n",
              "      <th>Promo</th>\n",
              "      <td>844338.0</td>\n",
              "      <td>0.446356</td>\n",
              "      <td>0.497114</td>\n",
              "      <td>0.0</td>\n",
              "      <td>0.0</td>\n",
              "      <td>0.0</td>\n",
              "      <td>1.0</td>\n",
              "      <td>1.0</td>\n",
              "    </tr>\n",
              "    <tr>\n",
              "      <th>SchoolHoliday</th>\n",
              "      <td>844338.0</td>\n",
              "      <td>0.193578</td>\n",
              "      <td>0.395102</td>\n",
              "      <td>0.0</td>\n",
              "      <td>0.0</td>\n",
              "      <td>0.0</td>\n",
              "      <td>0.0</td>\n",
              "      <td>1.0</td>\n",
              "    </tr>\n",
              "  </tbody>\n",
              "</table>\n",
              "</div>"
            ],
            "text/plain": [
              "                  count         mean          std  ...     50%     75%      max\n",
              "Store          844338.0   558.421374   321.730861  ...   558.0   837.0   1115.0\n",
              "DayOfWeek      844338.0     3.520350     1.723712  ...     3.0     5.0      7.0\n",
              "Sales          844338.0  6955.959134  3103.815515  ...  6369.0  8360.0  41551.0\n",
              "Customers      844338.0   762.777166   401.194153  ...   676.0   893.0   7388.0\n",
              "Open           844338.0     1.000000     0.000000  ...     1.0     1.0      1.0\n",
              "Promo          844338.0     0.446356     0.497114  ...     0.0     1.0      1.0\n",
              "SchoolHoliday  844338.0     0.193578     0.395102  ...     0.0     0.0      1.0\n",
              "\n",
              "[7 rows x 8 columns]"
            ]
          },
          "metadata": {
            "tags": []
          },
          "execution_count": 23
        }
      ]
    },
    {
      "cell_type": "markdown",
      "metadata": {
        "id": "kCU23MYVMvP0",
        "colab_type": "text"
      },
      "source": [
        "### Extracting Year and Month Columns"
      ]
    },
    {
      "cell_type": "code",
      "metadata": {
        "id": "Uke58qUBT5t5",
        "colab_type": "code",
        "colab": {}
      },
      "source": [
        "train['Date'] = pd.to_datetime(train['Date'], format='%Y-%m-%d')\n",
        "train['Year'] = train['Date'].dt.year\n",
        "train['Month_Yr'] =  train['Date'].apply(lambda x: x.strftime('%Y-%m'))"
      ],
      "execution_count": 0,
      "outputs": []
    },
    {
      "cell_type": "markdown",
      "metadata": {
        "id": "tqthqzpZM_2W",
        "colab_type": "text"
      },
      "source": [
        "## Checking null rows"
      ]
    },
    {
      "cell_type": "code",
      "metadata": {
        "id": "lVuYTsdGklVZ",
        "colab_type": "code",
        "outputId": "c956a567-42d9-4278-f289-e8b34d2cf3dc",
        "colab": {
          "base_uri": "https://localhost:8080/",
          "height": 230
        }
      },
      "source": [
        "train.isnull().sum()"
      ],
      "execution_count": 0,
      "outputs": [
        {
          "output_type": "execute_result",
          "data": {
            "text/plain": [
              "Store            0\n",
              "DayOfWeek        0\n",
              "Date             0\n",
              "Sales            0\n",
              "Customers        0\n",
              "Open             0\n",
              "Promo            0\n",
              "StateHoliday     0\n",
              "SchoolHoliday    0\n",
              "Year             0\n",
              "Month_Yr         0\n",
              "dtype: int64"
            ]
          },
          "metadata": {
            "tags": []
          },
          "execution_count": 25
        }
      ]
    },
    {
      "cell_type": "markdown",
      "metadata": {
        "id": "Pk0uFQwFmPyv",
        "colab_type": "text"
      },
      "source": [
        "No null values in train data."
      ]
    },
    {
      "cell_type": "code",
      "metadata": {
        "id": "_8IAAeRPklTS",
        "colab_type": "code",
        "outputId": "c6e25673-5ae4-4a57-dbbc-6114251df35d",
        "colab": {
          "base_uri": "https://localhost:8080/",
          "height": 212
        }
      },
      "source": [
        "store.isnull().sum()"
      ],
      "execution_count": 0,
      "outputs": [
        {
          "output_type": "execute_result",
          "data": {
            "text/plain": [
              "Store                          0\n",
              "StoreType                      0\n",
              "Assortment                     0\n",
              "CompetitionDistance            3\n",
              "CompetitionOpenSinceMonth    354\n",
              "CompetitionOpenSinceYear     354\n",
              "Promo2                         0\n",
              "Promo2SinceWeek              544\n",
              "Promo2SinceYear              544\n",
              "PromoInterval                544\n",
              "dtype: int64"
            ]
          },
          "metadata": {
            "tags": []
          },
          "execution_count": 26
        }
      ]
    },
    {
      "cell_type": "code",
      "metadata": {
        "id": "MeOevm7tSc09",
        "colab_type": "code",
        "outputId": "262404c6-041a-4752-c04e-2eb679193a9f",
        "colab": {
          "base_uri": "https://localhost:8080/",
          "height": 173
        }
      },
      "source": [
        "# Stores with null CompetitionDistnace\n",
        "print(\"Stores with null values in CompetitionDistance column:\")\n",
        "store[store['CompetitionDistance'].isnull()]"
      ],
      "execution_count": 0,
      "outputs": [
        {
          "output_type": "stream",
          "text": [
            "Stores with null values in CompetitionDistance column:\n"
          ],
          "name": "stdout"
        },
        {
          "output_type": "execute_result",
          "data": {
            "text/html": [
              "<div>\n",
              "<style scoped>\n",
              "    .dataframe tbody tr th:only-of-type {\n",
              "        vertical-align: middle;\n",
              "    }\n",
              "\n",
              "    .dataframe tbody tr th {\n",
              "        vertical-align: top;\n",
              "    }\n",
              "\n",
              "    .dataframe thead th {\n",
              "        text-align: right;\n",
              "    }\n",
              "</style>\n",
              "<table border=\"1\" class=\"dataframe\">\n",
              "  <thead>\n",
              "    <tr style=\"text-align: right;\">\n",
              "      <th></th>\n",
              "      <th>Store</th>\n",
              "      <th>StoreType</th>\n",
              "      <th>Assortment</th>\n",
              "      <th>CompetitionDistance</th>\n",
              "      <th>CompetitionOpenSinceMonth</th>\n",
              "      <th>CompetitionOpenSinceYear</th>\n",
              "      <th>Promo2</th>\n",
              "      <th>Promo2SinceWeek</th>\n",
              "      <th>Promo2SinceYear</th>\n",
              "      <th>PromoInterval</th>\n",
              "    </tr>\n",
              "  </thead>\n",
              "  <tbody>\n",
              "    <tr>\n",
              "      <th>290</th>\n",
              "      <td>291</td>\n",
              "      <td>d</td>\n",
              "      <td>a</td>\n",
              "      <td>NaN</td>\n",
              "      <td>NaN</td>\n",
              "      <td>NaN</td>\n",
              "      <td>0</td>\n",
              "      <td>NaN</td>\n",
              "      <td>NaN</td>\n",
              "      <td>NaN</td>\n",
              "    </tr>\n",
              "    <tr>\n",
              "      <th>621</th>\n",
              "      <td>622</td>\n",
              "      <td>a</td>\n",
              "      <td>c</td>\n",
              "      <td>NaN</td>\n",
              "      <td>NaN</td>\n",
              "      <td>NaN</td>\n",
              "      <td>0</td>\n",
              "      <td>NaN</td>\n",
              "      <td>NaN</td>\n",
              "      <td>NaN</td>\n",
              "    </tr>\n",
              "    <tr>\n",
              "      <th>878</th>\n",
              "      <td>879</td>\n",
              "      <td>d</td>\n",
              "      <td>a</td>\n",
              "      <td>NaN</td>\n",
              "      <td>NaN</td>\n",
              "      <td>NaN</td>\n",
              "      <td>1</td>\n",
              "      <td>5.0</td>\n",
              "      <td>2013.0</td>\n",
              "      <td>Feb,May,Aug,Nov</td>\n",
              "    </tr>\n",
              "  </tbody>\n",
              "</table>\n",
              "</div>"
            ],
            "text/plain": [
              "     Store StoreType  ... Promo2SinceYear    PromoInterval\n",
              "290    291         d  ...             NaN              NaN\n",
              "621    622         a  ...             NaN              NaN\n",
              "878    879         d  ...          2013.0  Feb,May,Aug,Nov\n",
              "\n",
              "[3 rows x 10 columns]"
            ]
          },
          "metadata": {
            "tags": []
          },
          "execution_count": 27
        }
      ]
    },
    {
      "cell_type": "markdown",
      "metadata": {
        "id": "5Sv_3voAmdWH",
        "colab_type": "text"
      },
      "source": [
        "**Note** : \n",
        "\n",
        "We will insert the median value for the missing competition distances and 0's in all other cases.\n"
      ]
    },
    {
      "cell_type": "code",
      "metadata": {
        "id": "X_jDDzNcmK71",
        "colab_type": "code",
        "colab": {}
      },
      "source": [
        "#fill na's in Competition distance with median values\n",
        "\n",
        "store[\"CompetitionDistance\"] = store[\"CompetitionDistance\"].fillna(store[\"CompetitionDistance\"].median())"
      ],
      "execution_count": 0,
      "outputs": []
    },
    {
      "cell_type": "code",
      "metadata": {
        "id": "baDW07llklRW",
        "colab_type": "code",
        "colab": {}
      },
      "source": [
        "## Blank entries from columns Promo2 (Store Data) & Promo2Since (Store Data)\n",
        "## will be eliminated.\n",
        "\n",
        "store.fillna(0, inplace = True)"
      ],
      "execution_count": 0,
      "outputs": []
    },
    {
      "cell_type": "code",
      "metadata": {
        "id": "U-BogI1AW7Ts",
        "colab_type": "code",
        "outputId": "07b6d1b0-f4ce-40ae-d8cc-0e5c317e35eb",
        "colab": {
          "base_uri": "https://localhost:8080/",
          "height": 212
        }
      },
      "source": [
        "store.isnull().sum()"
      ],
      "execution_count": 0,
      "outputs": [
        {
          "output_type": "execute_result",
          "data": {
            "text/plain": [
              "Store                        0\n",
              "StoreType                    0\n",
              "Assortment                   0\n",
              "CompetitionDistance          0\n",
              "CompetitionOpenSinceMonth    0\n",
              "CompetitionOpenSinceYear     0\n",
              "Promo2                       0\n",
              "Promo2SinceWeek              0\n",
              "Promo2SinceYear              0\n",
              "PromoInterval                0\n",
              "dtype: int64"
            ]
          },
          "metadata": {
            "tags": []
          },
          "execution_count": 30
        }
      ]
    },
    {
      "cell_type": "markdown",
      "metadata": {
        "id": "DBnisekYX-U5",
        "colab_type": "text"
      },
      "source": [
        "## Create Master Table"
      ]
    },
    {
      "cell_type": "code",
      "metadata": {
        "id": "6lg8dn0ZX-Ff",
        "colab_type": "code",
        "colab": {}
      },
      "source": [
        "# Create a new table by merging store and train tables\n",
        "\n",
        "master_table = pd.merge(train, store, on='Store')"
      ],
      "execution_count": 0,
      "outputs": []
    },
    {
      "cell_type": "code",
      "metadata": {
        "id": "uf1hochuX-DH",
        "colab_type": "code",
        "outputId": "3e60c08f-f796-42c0-bb29-59967a418b37",
        "colab": {
          "base_uri": "https://localhost:8080/",
          "height": 298
        }
      },
      "source": [
        "master_table.head()"
      ],
      "execution_count": 0,
      "outputs": [
        {
          "output_type": "execute_result",
          "data": {
            "text/html": [
              "<div>\n",
              "<style scoped>\n",
              "    .dataframe tbody tr th:only-of-type {\n",
              "        vertical-align: middle;\n",
              "    }\n",
              "\n",
              "    .dataframe tbody tr th {\n",
              "        vertical-align: top;\n",
              "    }\n",
              "\n",
              "    .dataframe thead th {\n",
              "        text-align: right;\n",
              "    }\n",
              "</style>\n",
              "<table border=\"1\" class=\"dataframe\">\n",
              "  <thead>\n",
              "    <tr style=\"text-align: right;\">\n",
              "      <th></th>\n",
              "      <th>Store</th>\n",
              "      <th>DayOfWeek</th>\n",
              "      <th>Date</th>\n",
              "      <th>Sales</th>\n",
              "      <th>Customers</th>\n",
              "      <th>Open</th>\n",
              "      <th>Promo</th>\n",
              "      <th>StateHoliday</th>\n",
              "      <th>SchoolHoliday</th>\n",
              "      <th>Year</th>\n",
              "      <th>Month_Yr</th>\n",
              "      <th>StoreType</th>\n",
              "      <th>Assortment</th>\n",
              "      <th>CompetitionDistance</th>\n",
              "      <th>CompetitionOpenSinceMonth</th>\n",
              "      <th>CompetitionOpenSinceYear</th>\n",
              "      <th>Promo2</th>\n",
              "      <th>Promo2SinceWeek</th>\n",
              "      <th>Promo2SinceYear</th>\n",
              "      <th>PromoInterval</th>\n",
              "    </tr>\n",
              "  </thead>\n",
              "  <tbody>\n",
              "    <tr>\n",
              "      <th>0</th>\n",
              "      <td>1</td>\n",
              "      <td>5</td>\n",
              "      <td>2015-07-31</td>\n",
              "      <td>5263</td>\n",
              "      <td>555</td>\n",
              "      <td>1</td>\n",
              "      <td>1</td>\n",
              "      <td>0</td>\n",
              "      <td>1</td>\n",
              "      <td>2015</td>\n",
              "      <td>2015-07</td>\n",
              "      <td>c</td>\n",
              "      <td>a</td>\n",
              "      <td>1270.0</td>\n",
              "      <td>9.0</td>\n",
              "      <td>2008.0</td>\n",
              "      <td>0</td>\n",
              "      <td>0.0</td>\n",
              "      <td>0.0</td>\n",
              "      <td>0</td>\n",
              "    </tr>\n",
              "    <tr>\n",
              "      <th>1</th>\n",
              "      <td>1</td>\n",
              "      <td>4</td>\n",
              "      <td>2015-07-30</td>\n",
              "      <td>5020</td>\n",
              "      <td>546</td>\n",
              "      <td>1</td>\n",
              "      <td>1</td>\n",
              "      <td>0</td>\n",
              "      <td>1</td>\n",
              "      <td>2015</td>\n",
              "      <td>2015-07</td>\n",
              "      <td>c</td>\n",
              "      <td>a</td>\n",
              "      <td>1270.0</td>\n",
              "      <td>9.0</td>\n",
              "      <td>2008.0</td>\n",
              "      <td>0</td>\n",
              "      <td>0.0</td>\n",
              "      <td>0.0</td>\n",
              "      <td>0</td>\n",
              "    </tr>\n",
              "    <tr>\n",
              "      <th>2</th>\n",
              "      <td>1</td>\n",
              "      <td>3</td>\n",
              "      <td>2015-07-29</td>\n",
              "      <td>4782</td>\n",
              "      <td>523</td>\n",
              "      <td>1</td>\n",
              "      <td>1</td>\n",
              "      <td>0</td>\n",
              "      <td>1</td>\n",
              "      <td>2015</td>\n",
              "      <td>2015-07</td>\n",
              "      <td>c</td>\n",
              "      <td>a</td>\n",
              "      <td>1270.0</td>\n",
              "      <td>9.0</td>\n",
              "      <td>2008.0</td>\n",
              "      <td>0</td>\n",
              "      <td>0.0</td>\n",
              "      <td>0.0</td>\n",
              "      <td>0</td>\n",
              "    </tr>\n",
              "    <tr>\n",
              "      <th>3</th>\n",
              "      <td>1</td>\n",
              "      <td>2</td>\n",
              "      <td>2015-07-28</td>\n",
              "      <td>5011</td>\n",
              "      <td>560</td>\n",
              "      <td>1</td>\n",
              "      <td>1</td>\n",
              "      <td>0</td>\n",
              "      <td>1</td>\n",
              "      <td>2015</td>\n",
              "      <td>2015-07</td>\n",
              "      <td>c</td>\n",
              "      <td>a</td>\n",
              "      <td>1270.0</td>\n",
              "      <td>9.0</td>\n",
              "      <td>2008.0</td>\n",
              "      <td>0</td>\n",
              "      <td>0.0</td>\n",
              "      <td>0.0</td>\n",
              "      <td>0</td>\n",
              "    </tr>\n",
              "    <tr>\n",
              "      <th>4</th>\n",
              "      <td>1</td>\n",
              "      <td>1</td>\n",
              "      <td>2015-07-27</td>\n",
              "      <td>6102</td>\n",
              "      <td>612</td>\n",
              "      <td>1</td>\n",
              "      <td>1</td>\n",
              "      <td>0</td>\n",
              "      <td>1</td>\n",
              "      <td>2015</td>\n",
              "      <td>2015-07</td>\n",
              "      <td>c</td>\n",
              "      <td>a</td>\n",
              "      <td>1270.0</td>\n",
              "      <td>9.0</td>\n",
              "      <td>2008.0</td>\n",
              "      <td>0</td>\n",
              "      <td>0.0</td>\n",
              "      <td>0.0</td>\n",
              "      <td>0</td>\n",
              "    </tr>\n",
              "  </tbody>\n",
              "</table>\n",
              "</div>"
            ],
            "text/plain": [
              "   Store  DayOfWeek       Date  ...  Promo2SinceWeek  Promo2SinceYear  PromoInterval\n",
              "0      1          5 2015-07-31  ...              0.0              0.0              0\n",
              "1      1          4 2015-07-30  ...              0.0              0.0              0\n",
              "2      1          3 2015-07-29  ...              0.0              0.0              0\n",
              "3      1          2 2015-07-28  ...              0.0              0.0              0\n",
              "4      1          1 2015-07-27  ...              0.0              0.0              0\n",
              "\n",
              "[5 rows x 20 columns]"
            ]
          },
          "metadata": {
            "tags": []
          },
          "execution_count": 32
        }
      ]
    },
    {
      "cell_type": "code",
      "metadata": {
        "id": "yzIe_Y-vX-A5",
        "colab_type": "code",
        "outputId": "ee7040f8-79f0-4f8b-ee62-bec10ab95033",
        "colab": {
          "base_uri": "https://localhost:8080/",
          "height": 458
        }
      },
      "source": [
        "master_table.describe().T"
      ],
      "execution_count": 0,
      "outputs": [
        {
          "output_type": "execute_result",
          "data": {
            "text/html": [
              "<div>\n",
              "<style scoped>\n",
              "    .dataframe tbody tr th:only-of-type {\n",
              "        vertical-align: middle;\n",
              "    }\n",
              "\n",
              "    .dataframe tbody tr th {\n",
              "        vertical-align: top;\n",
              "    }\n",
              "\n",
              "    .dataframe thead th {\n",
              "        text-align: right;\n",
              "    }\n",
              "</style>\n",
              "<table border=\"1\" class=\"dataframe\">\n",
              "  <thead>\n",
              "    <tr style=\"text-align: right;\">\n",
              "      <th></th>\n",
              "      <th>count</th>\n",
              "      <th>mean</th>\n",
              "      <th>std</th>\n",
              "      <th>min</th>\n",
              "      <th>25%</th>\n",
              "      <th>50%</th>\n",
              "      <th>75%</th>\n",
              "      <th>max</th>\n",
              "    </tr>\n",
              "  </thead>\n",
              "  <tbody>\n",
              "    <tr>\n",
              "      <th>Store</th>\n",
              "      <td>844338.0</td>\n",
              "      <td>558.421374</td>\n",
              "      <td>321.730861</td>\n",
              "      <td>1.0</td>\n",
              "      <td>280.0</td>\n",
              "      <td>558.0</td>\n",
              "      <td>837.0</td>\n",
              "      <td>1115.0</td>\n",
              "    </tr>\n",
              "    <tr>\n",
              "      <th>DayOfWeek</th>\n",
              "      <td>844338.0</td>\n",
              "      <td>3.520350</td>\n",
              "      <td>1.723712</td>\n",
              "      <td>1.0</td>\n",
              "      <td>2.0</td>\n",
              "      <td>3.0</td>\n",
              "      <td>5.0</td>\n",
              "      <td>7.0</td>\n",
              "    </tr>\n",
              "    <tr>\n",
              "      <th>Sales</th>\n",
              "      <td>844338.0</td>\n",
              "      <td>6955.959134</td>\n",
              "      <td>3103.815515</td>\n",
              "      <td>46.0</td>\n",
              "      <td>4859.0</td>\n",
              "      <td>6369.0</td>\n",
              "      <td>8360.0</td>\n",
              "      <td>41551.0</td>\n",
              "    </tr>\n",
              "    <tr>\n",
              "      <th>Customers</th>\n",
              "      <td>844338.0</td>\n",
              "      <td>762.777166</td>\n",
              "      <td>401.194153</td>\n",
              "      <td>8.0</td>\n",
              "      <td>519.0</td>\n",
              "      <td>676.0</td>\n",
              "      <td>893.0</td>\n",
              "      <td>7388.0</td>\n",
              "    </tr>\n",
              "    <tr>\n",
              "      <th>Open</th>\n",
              "      <td>844338.0</td>\n",
              "      <td>1.000000</td>\n",
              "      <td>0.000000</td>\n",
              "      <td>1.0</td>\n",
              "      <td>1.0</td>\n",
              "      <td>1.0</td>\n",
              "      <td>1.0</td>\n",
              "      <td>1.0</td>\n",
              "    </tr>\n",
              "    <tr>\n",
              "      <th>Promo</th>\n",
              "      <td>844338.0</td>\n",
              "      <td>0.446356</td>\n",
              "      <td>0.497114</td>\n",
              "      <td>0.0</td>\n",
              "      <td>0.0</td>\n",
              "      <td>0.0</td>\n",
              "      <td>1.0</td>\n",
              "      <td>1.0</td>\n",
              "    </tr>\n",
              "    <tr>\n",
              "      <th>SchoolHoliday</th>\n",
              "      <td>844338.0</td>\n",
              "      <td>0.193578</td>\n",
              "      <td>0.395102</td>\n",
              "      <td>0.0</td>\n",
              "      <td>0.0</td>\n",
              "      <td>0.0</td>\n",
              "      <td>0.0</td>\n",
              "      <td>1.0</td>\n",
              "    </tr>\n",
              "    <tr>\n",
              "      <th>Year</th>\n",
              "      <td>844338.0</td>\n",
              "      <td>2013.831945</td>\n",
              "      <td>0.777271</td>\n",
              "      <td>2013.0</td>\n",
              "      <td>2013.0</td>\n",
              "      <td>2014.0</td>\n",
              "      <td>2014.0</td>\n",
              "      <td>2015.0</td>\n",
              "    </tr>\n",
              "    <tr>\n",
              "      <th>CompetitionDistance</th>\n",
              "      <td>844338.0</td>\n",
              "      <td>5450.044852</td>\n",
              "      <td>7801.082007</td>\n",
              "      <td>20.0</td>\n",
              "      <td>710.0</td>\n",
              "      <td>2325.0</td>\n",
              "      <td>6880.0</td>\n",
              "      <td>75860.0</td>\n",
              "    </tr>\n",
              "    <tr>\n",
              "      <th>CompetitionOpenSinceMonth</th>\n",
              "      <td>844338.0</td>\n",
              "      <td>4.926482</td>\n",
              "      <td>4.283634</td>\n",
              "      <td>0.0</td>\n",
              "      <td>0.0</td>\n",
              "      <td>4.0</td>\n",
              "      <td>9.0</td>\n",
              "      <td>12.0</td>\n",
              "    </tr>\n",
              "    <tr>\n",
              "      <th>CompetitionOpenSinceYear</th>\n",
              "      <td>844338.0</td>\n",
              "      <td>1369.692738</td>\n",
              "      <td>935.556484</td>\n",
              "      <td>0.0</td>\n",
              "      <td>0.0</td>\n",
              "      <td>2006.0</td>\n",
              "      <td>2011.0</td>\n",
              "      <td>2015.0</td>\n",
              "    </tr>\n",
              "    <tr>\n",
              "      <th>Promo2</th>\n",
              "      <td>844338.0</td>\n",
              "      <td>0.498670</td>\n",
              "      <td>0.499999</td>\n",
              "      <td>0.0</td>\n",
              "      <td>0.0</td>\n",
              "      <td>0.0</td>\n",
              "      <td>1.0</td>\n",
              "      <td>1.0</td>\n",
              "    </tr>\n",
              "    <tr>\n",
              "      <th>Promo2SinceWeek</th>\n",
              "      <td>844338.0</td>\n",
              "      <td>11.596159</td>\n",
              "      <td>15.308101</td>\n",
              "      <td>0.0</td>\n",
              "      <td>0.0</td>\n",
              "      <td>0.0</td>\n",
              "      <td>22.0</td>\n",
              "      <td>50.0</td>\n",
              "    </tr>\n",
              "    <tr>\n",
              "      <th>Promo2SinceYear</th>\n",
              "      <td>844338.0</td>\n",
              "      <td>1003.201259</td>\n",
              "      <td>1005.874685</td>\n",
              "      <td>0.0</td>\n",
              "      <td>0.0</td>\n",
              "      <td>0.0</td>\n",
              "      <td>2012.0</td>\n",
              "      <td>2015.0</td>\n",
              "    </tr>\n",
              "  </tbody>\n",
              "</table>\n",
              "</div>"
            ],
            "text/plain": [
              "                              count         mean  ...     75%      max\n",
              "Store                      844338.0   558.421374  ...   837.0   1115.0\n",
              "DayOfWeek                  844338.0     3.520350  ...     5.0      7.0\n",
              "Sales                      844338.0  6955.959134  ...  8360.0  41551.0\n",
              "Customers                  844338.0   762.777166  ...   893.0   7388.0\n",
              "Open                       844338.0     1.000000  ...     1.0      1.0\n",
              "Promo                      844338.0     0.446356  ...     1.0      1.0\n",
              "SchoolHoliday              844338.0     0.193578  ...     0.0      1.0\n",
              "Year                       844338.0  2013.831945  ...  2014.0   2015.0\n",
              "CompetitionDistance        844338.0  5450.044852  ...  6880.0  75860.0\n",
              "CompetitionOpenSinceMonth  844338.0     4.926482  ...     9.0     12.0\n",
              "CompetitionOpenSinceYear   844338.0  1369.692738  ...  2011.0   2015.0\n",
              "Promo2                     844338.0     0.498670  ...     1.0      1.0\n",
              "Promo2SinceWeek            844338.0    11.596159  ...    22.0     50.0\n",
              "Promo2SinceYear            844338.0  1003.201259  ...  2012.0   2015.0\n",
              "\n",
              "[14 rows x 8 columns]"
            ]
          },
          "metadata": {
            "tags": []
          },
          "execution_count": 33
        }
      ]
    },
    {
      "cell_type": "code",
      "metadata": {
        "id": "pmn5aZbpX9-o",
        "colab_type": "code",
        "outputId": "b727b136-dda6-4daf-e6a6-749d7dd3e3c2",
        "colab": {
          "base_uri": "https://localhost:8080/",
          "height": 35
        }
      },
      "source": [
        "print('Master Table dimensions : {}'.format(master_table.shape))"
      ],
      "execution_count": 0,
      "outputs": [
        {
          "output_type": "stream",
          "text": [
            "Master Table dimensions : (844338, 20)\n"
          ],
          "name": "stdout"
        }
      ]
    },
    {
      "cell_type": "markdown",
      "metadata": {
        "id": "bQgZYUQ0UrEj",
        "colab_type": "text"
      },
      "source": [
        "## Correlation Plot\n"
      ]
    },
    {
      "cell_type": "markdown",
      "metadata": {
        "id": "er2daYZf5anH",
        "colab_type": "text"
      },
      "source": [
        "Let's check correlations between variables using heatmap (seaborn)."
      ]
    },
    {
      "cell_type": "code",
      "metadata": {
        "id": "y-nvwTJOgX_G",
        "colab_type": "code",
        "colab": {}
      },
      "source": [
        "corr_plot = master_table.drop('Open', axis = 1).corr()"
      ],
      "execution_count": 0,
      "outputs": []
    },
    {
      "cell_type": "code",
      "metadata": {
        "id": "c52ixrHXguws",
        "colab_type": "code",
        "outputId": "aac3b73d-063d-4aef-a4f4-3e1f673cc482",
        "colab": {
          "base_uri": "https://localhost:8080/",
          "height": 732
        }
      },
      "source": [
        "# Set up the matplotlib figure\n",
        "f, ax = plt.subplots(figsize = (11, 11))\n",
        "\n",
        "# Draw the heatmap with the mask and correct aspect ratio\n",
        "sns.heatmap(corr_plot,\n",
        "            square = True, linewidths = .5, ax = ax, cmap = \"BuPu\")      \n",
        "plt.show()"
      ],
      "execution_count": 0,
      "outputs": [
        {
          "output_type": "display_data",
          "data": {
            "image/png": "[encoded data removed]",
            "text/plain": [
              "<Figure size 792x792 with 2 Axes>"
            ]
          },
          "metadata": {
            "tags": []
          }
        }
      ]
    },
    {
      "cell_type": "markdown",
      "metadata": {
        "id": "oiIgv8KGAsX_",
        "colab_type": "text"
      },
      "source": [
        "Here we can see a positive correlation between Customerts and Sales as well as Promo and both Customer and Sales.\n",
        "\n",
        "\n",
        "However, negative correlation can be seen between Promo2 (if promo continues) and Customers as well as Sales. "
      ]
    },
    {
      "cell_type": "markdown",
      "metadata": {
        "id": "2XZRPZPEJ6Ze",
        "colab_type": "text"
      },
      "source": [
        "## Univariate & Bivariet Analysis"
      ]
    },
    {
      "cell_type": "markdown",
      "metadata": {
        "id": "2LpCkDFXyJsq",
        "colab_type": "text"
      },
      "source": [
        "### Sales & Customers\n",
        "- Histogram\n",
        "- Trend\n",
        "- Boxplot"
      ]
    },
    {
      "cell_type": "code",
      "metadata": {
        "id": "h4nOpkMoJ-am",
        "colab_type": "code",
        "colab": {}
      },
      "source": [
        "## 'train' data univariates analysis\n",
        "## find mean sales per day, per month, perdaycustomer."
      ],
      "execution_count": 0,
      "outputs": []
    },
    {
      "cell_type": "code",
      "metadata": {
        "id": "yREmbZjydWLn",
        "colab_type": "code",
        "outputId": "59272370-9163-47cf-cd89-01edde967042",
        "colab": {
          "base_uri": "https://localhost:8080/",
          "height": 194
        }
      },
      "source": [
        "trends = train.groupby('Month_Yr')['Sales'].mean()\n",
        "trends = trends.reset_index()\n",
        "trends.columns = ['Month_Yr', 'Sales_Average']\n",
        "trends.head()"
      ],
      "execution_count": 0,
      "outputs": [
        {
          "output_type": "execute_result",
          "data": {
            "text/html": [
              "<div>\n",
              "<style scoped>\n",
              "    .dataframe tbody tr th:only-of-type {\n",
              "        vertical-align: middle;\n",
              "    }\n",
              "\n",
              "    .dataframe tbody tr th {\n",
              "        vertical-align: top;\n",
              "    }\n",
              "\n",
              "    .dataframe thead th {\n",
              "        text-align: right;\n",
              "    }\n",
              "</style>\n",
              "<table border=\"1\" class=\"dataframe\">\n",
              "  <thead>\n",
              "    <tr style=\"text-align: right;\">\n",
              "      <th></th>\n",
              "      <th>Month_Yr</th>\n",
              "      <th>Sales_Average</th>\n",
              "    </tr>\n",
              "  </thead>\n",
              "  <tbody>\n",
              "    <tr>\n",
              "      <th>0</th>\n",
              "      <td>2013-01</td>\n",
              "      <td>6240.506045</td>\n",
              "    </tr>\n",
              "    <tr>\n",
              "      <th>1</th>\n",
              "      <td>2013-02</td>\n",
              "      <td>6428.838730</td>\n",
              "    </tr>\n",
              "    <tr>\n",
              "      <th>2</th>\n",
              "      <td>2013-03</td>\n",
              "      <td>7213.092718</td>\n",
              "    </tr>\n",
              "    <tr>\n",
              "      <th>3</th>\n",
              "      <td>2013-04</td>\n",
              "      <td>6579.791664</td>\n",
              "    </tr>\n",
              "    <tr>\n",
              "      <th>4</th>\n",
              "      <td>2013-05</td>\n",
              "      <td>7077.028245</td>\n",
              "    </tr>\n",
              "  </tbody>\n",
              "</table>\n",
              "</div>"
            ],
            "text/plain": [
              "  Month_Yr  Sales_Average\n",
              "0  2013-01    6240.506045\n",
              "1  2013-02    6428.838730\n",
              "2  2013-03    7213.092718\n",
              "3  2013-04    6579.791664\n",
              "4  2013-05    7077.028245"
            ]
          },
          "metadata": {
            "tags": []
          },
          "execution_count": 38
        }
      ]
    },
    {
      "cell_type": "code",
      "metadata": {
        "id": "QjvP4fv_J6LM",
        "colab_type": "code",
        "outputId": "d2c5fb4c-d489-4509-f1ba-135270cedc7d",
        "colab": {
          "base_uri": "https://localhost:8080/",
          "height": 194
        }
      },
      "source": [
        "cust_trends = train.groupby('Month_Yr')['Customers'].mean()\n",
        "cust_trends = cust_trends.reset_index()\n",
        "cust_trends.columns = ['Month_Yr', 'Customers_Average']\n",
        "cust_trends.head()"
      ],
      "execution_count": 0,
      "outputs": [
        {
          "output_type": "execute_result",
          "data": {
            "text/html": [
              "<div>\n",
              "<style scoped>\n",
              "    .dataframe tbody tr th:only-of-type {\n",
              "        vertical-align: middle;\n",
              "    }\n",
              "\n",
              "    .dataframe tbody tr th {\n",
              "        vertical-align: top;\n",
              "    }\n",
              "\n",
              "    .dataframe thead th {\n",
              "        text-align: right;\n",
              "    }\n",
              "</style>\n",
              "<table border=\"1\" class=\"dataframe\">\n",
              "  <thead>\n",
              "    <tr style=\"text-align: right;\">\n",
              "      <th></th>\n",
              "      <th>Month_Yr</th>\n",
              "      <th>Customers_Average</th>\n",
              "    </tr>\n",
              "  </thead>\n",
              "  <tbody>\n",
              "    <tr>\n",
              "      <th>0</th>\n",
              "      <td>2013-01</td>\n",
              "      <td>706.060038</td>\n",
              "    </tr>\n",
              "    <tr>\n",
              "      <th>1</th>\n",
              "      <td>2013-02</td>\n",
              "      <td>721.252830</td>\n",
              "    </tr>\n",
              "    <tr>\n",
              "      <th>2</th>\n",
              "      <td>2013-03</td>\n",
              "      <td>787.690008</td>\n",
              "    </tr>\n",
              "    <tr>\n",
              "      <th>3</th>\n",
              "      <td>2013-04</td>\n",
              "      <td>749.062343</td>\n",
              "    </tr>\n",
              "    <tr>\n",
              "      <th>4</th>\n",
              "      <td>2013-05</td>\n",
              "      <td>791.018207</td>\n",
              "    </tr>\n",
              "  </tbody>\n",
              "</table>\n",
              "</div>"
            ],
            "text/plain": [
              "  Month_Yr  Customers_Average\n",
              "0  2013-01         706.060038\n",
              "1  2013-02         721.252830\n",
              "2  2013-03         787.690008\n",
              "3  2013-04         749.062343\n",
              "4  2013-05         791.018207"
            ]
          },
          "metadata": {
            "tags": []
          },
          "execution_count": 39
        }
      ]
    },
    {
      "cell_type": "code",
      "metadata": {
        "id": "PJ0dvgskvB58",
        "colab_type": "code",
        "outputId": "fa83f20e-fd5d-40ab-db45-5b706a5864dd",
        "colab": {
          "base_uri": "https://localhost:8080/",
          "height": 707
        }
      },
      "source": [
        "fig, axs = plt.subplots(nrows = 2, ncols=3, figsize = (23,11))\n",
        "axs[0,1].tick_params(labelrotation=45)\n",
        "axs[1,1].tick_params(labelrotation=45)\n",
        "\n",
        "\n",
        "sns.distplot(train.Sales, rug=True,ax=axs[0,0]);\n",
        "\n",
        "sns.pointplot(x=\"Month_Yr\", y=\"Sales_Average\", data=trends, ax=axs[0,1]);\n",
        "\n",
        "\n",
        "sns.boxplot(x=trends.Sales_Average,ax=axs[0,2]);\n",
        "\n",
        "sns.distplot(train.Customers, rug=True, ax=axs[1,0]);\n",
        "\n",
        "sns.pointplot(x=\"Month_Yr\", y=\"Customers_Average\", data=cust_trends, ax = axs[1,1]);\n",
        "\n",
        "\n",
        "sns.boxplot(x=train.Customers, ax = axs[1,2]);"
      ],
      "execution_count": 0,
      "outputs": [
        {
          "output_type": "display_data",
          "data": {
            "image/png": "[encoded data removed]",
            "text/plain": [
              "<Figure size 1656x792 with 6 Axes>"
            ]
          },
          "metadata": {
            "tags": []
          }
        }
      ]
    },
    {
      "cell_type": "markdown",
      "metadata": {
        "id": "UiFC5Dh20MJJ",
        "colab_type": "text"
      },
      "source": [
        "Note : Sales and Customers have similar distributions."
      ]
    },
    {
      "cell_type": "code",
      "metadata": {
        "id": "iDVMwVlGDmE5",
        "colab_type": "code",
        "outputId": "4e1eaee8-a834-427b-fb78-663792353626",
        "colab": {
          "base_uri": "https://localhost:8080/",
          "height": 388
        }
      },
      "source": [
        "dims = (8,6)\n",
        "fig, ax = plt.subplots(figsize=dims)\n",
        "ax = sns.regplot(x=\"Customers\", y=\"Sales\", fit_reg=True, data=master_table)"
      ],
      "execution_count": 0,
      "outputs": [
        {
          "output_type": "display_data",
          "data": {
            "image/png": "[encoded data removed]",
            "text/plain": [
              "<Figure size 576x432 with 1 Axes>"
            ]
          },
          "metadata": {
            "tags": []
          }
        }
      ]
    },
    {
      "cell_type": "markdown",
      "metadata": {
        "id": "iKgp9vcL0dFX",
        "colab_type": "text"
      },
      "source": [
        "### Promo\n",
        "- Promo\n",
        "- Promo2"
      ]
    },
    {
      "cell_type": "code",
      "metadata": {
        "id": "sy9JIO0gJ5zK",
        "colab_type": "code",
        "outputId": "7febd92b-9ebe-48b7-d2ca-61a892a38bd3",
        "colab": {
          "base_uri": "https://localhost:8080/",
          "height": 135
        }
      },
      "source": [
        "## Promo (train data)\n",
        "\n",
        "count_promo = train.pivot_table(index=['Promo'],values=[\"Store\"], aggfunc='count')\n",
        "count_promo.columns = ['Count']\n",
        "count_promo"
      ],
      "execution_count": 0,
      "outputs": [
        {
          "output_type": "execute_result",
          "data": {
            "text/html": [
              "<div>\n",
              "<style scoped>\n",
              "    .dataframe tbody tr th:only-of-type {\n",
              "        vertical-align: middle;\n",
              "    }\n",
              "\n",
              "    .dataframe tbody tr th {\n",
              "        vertical-align: top;\n",
              "    }\n",
              "\n",
              "    .dataframe thead th {\n",
              "        text-align: right;\n",
              "    }\n",
              "</style>\n",
              "<table border=\"1\" class=\"dataframe\">\n",
              "  <thead>\n",
              "    <tr style=\"text-align: right;\">\n",
              "      <th></th>\n",
              "      <th>Count</th>\n",
              "    </tr>\n",
              "    <tr>\n",
              "      <th>Promo</th>\n",
              "      <th></th>\n",
              "    </tr>\n",
              "  </thead>\n",
              "  <tbody>\n",
              "    <tr>\n",
              "      <th>0</th>\n",
              "      <td>467463</td>\n",
              "    </tr>\n",
              "    <tr>\n",
              "      <th>1</th>\n",
              "      <td>376875</td>\n",
              "    </tr>\n",
              "  </tbody>\n",
              "</table>\n",
              "</div>"
            ],
            "text/plain": [
              "        Count\n",
              "Promo        \n",
              "0      467463\n",
              "1      376875"
            ]
          },
          "metadata": {
            "tags": []
          },
          "execution_count": 42
        }
      ]
    },
    {
      "cell_type": "code",
      "metadata": {
        "id": "uMb18awL6ivs",
        "colab_type": "code",
        "outputId": "0c7cc7bf-a7bf-47e8-a60d-4d5638727d9c",
        "colab": {
          "base_uri": "https://localhost:8080/",
          "height": 135
        }
      },
      "source": [
        "count_promo2 = master_table.pivot_table(index=['Promo2'],values=[\"Store\"], aggfunc='count')\n",
        "count_promo2.columns = ['Count']\n",
        "count_promo2"
      ],
      "execution_count": 0,
      "outputs": [
        {
          "output_type": "execute_result",
          "data": {
            "text/html": [
              "<div>\n",
              "<style scoped>\n",
              "    .dataframe tbody tr th:only-of-type {\n",
              "        vertical-align: middle;\n",
              "    }\n",
              "\n",
              "    .dataframe tbody tr th {\n",
              "        vertical-align: top;\n",
              "    }\n",
              "\n",
              "    .dataframe thead th {\n",
              "        text-align: right;\n",
              "    }\n",
              "</style>\n",
              "<table border=\"1\" class=\"dataframe\">\n",
              "  <thead>\n",
              "    <tr style=\"text-align: right;\">\n",
              "      <th></th>\n",
              "      <th>Count</th>\n",
              "    </tr>\n",
              "    <tr>\n",
              "      <th>Promo2</th>\n",
              "      <th></th>\n",
              "    </tr>\n",
              "  </thead>\n",
              "  <tbody>\n",
              "    <tr>\n",
              "      <th>0</th>\n",
              "      <td>423292</td>\n",
              "    </tr>\n",
              "    <tr>\n",
              "      <th>1</th>\n",
              "      <td>421046</td>\n",
              "    </tr>\n",
              "  </tbody>\n",
              "</table>\n",
              "</div>"
            ],
            "text/plain": [
              "         Count\n",
              "Promo2        \n",
              "0       423292\n",
              "1       421046"
            ]
          },
          "metadata": {
            "tags": []
          },
          "execution_count": 43
        }
      ]
    },
    {
      "cell_type": "code",
      "metadata": {
        "id": "tNIs3vRV7nC2",
        "colab_type": "code",
        "outputId": "d69db9e1-0b01-4b32-c855-1ea47328eea4",
        "colab": {
          "base_uri": "https://localhost:8080/",
          "height": 164
        }
      },
      "source": [
        "promo_compare = master_table.groupby(['Promo', 'Promo2'])['Sales'].count()\n",
        "promo_compare = promo_compare.reset_index()\n",
        "promo_compare.columns = ['Promo', 'Promo2', 'Count']\n",
        "promo_compare"
      ],
      "execution_count": 0,
      "outputs": [
        {
          "output_type": "execute_result",
          "data": {
            "text/html": [
              "<div>\n",
              "<style scoped>\n",
              "    .dataframe tbody tr th:only-of-type {\n",
              "        vertical-align: middle;\n",
              "    }\n",
              "\n",
              "    .dataframe tbody tr th {\n",
              "        vertical-align: top;\n",
              "    }\n",
              "\n",
              "    .dataframe thead th {\n",
              "        text-align: right;\n",
              "    }\n",
              "</style>\n",
              "<table border=\"1\" class=\"dataframe\">\n",
              "  <thead>\n",
              "    <tr style=\"text-align: right;\">\n",
              "      <th></th>\n",
              "      <th>Promo</th>\n",
              "      <th>Promo2</th>\n",
              "      <th>Count</th>\n",
              "    </tr>\n",
              "  </thead>\n",
              "  <tbody>\n",
              "    <tr>\n",
              "      <th>0</th>\n",
              "      <td>0</td>\n",
              "      <td>0</td>\n",
              "      <td>234287</td>\n",
              "    </tr>\n",
              "    <tr>\n",
              "      <th>1</th>\n",
              "      <td>0</td>\n",
              "      <td>1</td>\n",
              "      <td>233176</td>\n",
              "    </tr>\n",
              "    <tr>\n",
              "      <th>2</th>\n",
              "      <td>1</td>\n",
              "      <td>0</td>\n",
              "      <td>189005</td>\n",
              "    </tr>\n",
              "    <tr>\n",
              "      <th>3</th>\n",
              "      <td>1</td>\n",
              "      <td>1</td>\n",
              "      <td>187870</td>\n",
              "    </tr>\n",
              "  </tbody>\n",
              "</table>\n",
              "</div>"
            ],
            "text/plain": [
              "   Promo  Promo2   Count\n",
              "0      0       0  234287\n",
              "1      0       1  233176\n",
              "2      1       0  189005\n",
              "3      1       1  187870"
            ]
          },
          "metadata": {
            "tags": []
          },
          "execution_count": 44
        }
      ]
    },
    {
      "cell_type": "code",
      "metadata": {
        "id": "hkHHPjXjf8wa",
        "colab_type": "code",
        "outputId": "a6fa1966-0772-4e27-fa33-20bfc94f4d83",
        "colab": {
          "base_uri": "https://localhost:8080/",
          "height": 135
        }
      },
      "source": [
        "pivot_promo = train.pivot_table(index=['Promo'],values=[\"Sales\", \"Customers\"], aggfunc='mean')\n",
        "pivot_promo"
      ],
      "execution_count": 0,
      "outputs": [
        {
          "output_type": "execute_result",
          "data": {
            "text/html": [
              "<div>\n",
              "<style scoped>\n",
              "    .dataframe tbody tr th:only-of-type {\n",
              "        vertical-align: middle;\n",
              "    }\n",
              "\n",
              "    .dataframe tbody tr th {\n",
              "        vertical-align: top;\n",
              "    }\n",
              "\n",
              "    .dataframe thead th {\n",
              "        text-align: right;\n",
              "    }\n",
              "</style>\n",
              "<table border=\"1\" class=\"dataframe\">\n",
              "  <thead>\n",
              "    <tr style=\"text-align: right;\">\n",
              "      <th></th>\n",
              "      <th>Customers</th>\n",
              "      <th>Sales</th>\n",
              "    </tr>\n",
              "    <tr>\n",
              "      <th>Promo</th>\n",
              "      <th></th>\n",
              "      <th></th>\n",
              "    </tr>\n",
              "  </thead>\n",
              "  <tbody>\n",
              "    <tr>\n",
              "      <th>0</th>\n",
              "      <td>696.906080</td>\n",
              "      <td>5929.826183</td>\n",
              "    </tr>\n",
              "    <tr>\n",
              "      <th>1</th>\n",
              "      <td>844.481433</td>\n",
              "      <td>8228.739731</td>\n",
              "    </tr>\n",
              "  </tbody>\n",
              "</table>\n",
              "</div>"
            ],
            "text/plain": [
              "        Customers        Sales\n",
              "Promo                         \n",
              "0      696.906080  5929.826183\n",
              "1      844.481433  8228.739731"
            ]
          },
          "metadata": {
            "tags": []
          },
          "execution_count": 45
        }
      ]
    },
    {
      "cell_type": "markdown",
      "metadata": {
        "id": "nxAx69rRfvYC",
        "colab_type": "text"
      },
      "source": [
        "Note : Stores which are running promotions are attracting more number of customers as well as more average Sales.\n",
        "\n",
        "\n"
      ]
    },
    {
      "cell_type": "code",
      "metadata": {
        "id": "97to48GjhIhR",
        "colab_type": "code",
        "outputId": "e7c694b2-ad68-4b3c-926f-8f9bb4e0a859",
        "colab": {
          "base_uri": "https://localhost:8080/",
          "height": 135
        }
      },
      "source": [
        "pivot_promo2 = master_table.pivot_table(index=['Promo2'],values=[\"Sales\", \"Customers\"], aggfunc='mean')\n",
        "pivot_promo2"
      ],
      "execution_count": 0,
      "outputs": [
        {
          "output_type": "execute_result",
          "data": {
            "text/html": [
              "<div>\n",
              "<style scoped>\n",
              "    .dataframe tbody tr th:only-of-type {\n",
              "        vertical-align: middle;\n",
              "    }\n",
              "\n",
              "    .dataframe tbody tr th {\n",
              "        vertical-align: top;\n",
              "    }\n",
              "\n",
              "    .dataframe thead th {\n",
              "        text-align: right;\n",
              "    }\n",
              "</style>\n",
              "<table border=\"1\" class=\"dataframe\">\n",
              "  <thead>\n",
              "    <tr style=\"text-align: right;\">\n",
              "      <th></th>\n",
              "      <th>Customers</th>\n",
              "      <th>Sales</th>\n",
              "    </tr>\n",
              "    <tr>\n",
              "      <th>Promo2</th>\n",
              "      <th></th>\n",
              "      <th></th>\n",
              "    </tr>\n",
              "  </thead>\n",
              "  <tbody>\n",
              "    <tr>\n",
              "      <th>0</th>\n",
              "      <td>843.685884</td>\n",
              "      <td>7350.818414</td>\n",
              "    </tr>\n",
              "    <tr>\n",
              "      <th>1</th>\n",
              "      <td>681.436855</td>\n",
              "      <td>6558.993542</td>\n",
              "    </tr>\n",
              "  </tbody>\n",
              "</table>\n",
              "</div>"
            ],
            "text/plain": [
              "         Customers        Sales\n",
              "Promo2                         \n",
              "0       843.685884  7350.818414\n",
              "1       681.436855  6558.993542"
            ]
          },
          "metadata": {
            "tags": []
          },
          "execution_count": 46
        }
      ]
    },
    {
      "cell_type": "markdown",
      "metadata": {
        "id": "Q11GT9PoftGY",
        "colab_type": "text"
      },
      "source": [
        "Note : Stores which continue the promotions show less number of customers and average sales as well."
      ]
    },
    {
      "cell_type": "code",
      "metadata": {
        "id": "hnWnUhuXeeK3",
        "colab_type": "code",
        "outputId": "aefb1500-dfd8-42bf-b2de-a82d98dbea0c",
        "colab": {
          "base_uri": "https://localhost:8080/",
          "height": 194
        }
      },
      "source": [
        "promo_compare_mean = master_table.groupby(['Promo', 'Promo2'])['Sales', 'Customers'].mean()\n",
        "promo_compare_mean"
      ],
      "execution_count": 0,
      "outputs": [
        {
          "output_type": "execute_result",
          "data": {
            "text/html": [
              "<div>\n",
              "<style scoped>\n",
              "    .dataframe tbody tr th:only-of-type {\n",
              "        vertical-align: middle;\n",
              "    }\n",
              "\n",
              "    .dataframe tbody tr th {\n",
              "        vertical-align: top;\n",
              "    }\n",
              "\n",
              "    .dataframe thead th {\n",
              "        text-align: right;\n",
              "    }\n",
              "</style>\n",
              "<table border=\"1\" class=\"dataframe\">\n",
              "  <thead>\n",
              "    <tr style=\"text-align: right;\">\n",
              "      <th></th>\n",
              "      <th></th>\n",
              "      <th>Sales</th>\n",
              "      <th>Customers</th>\n",
              "    </tr>\n",
              "    <tr>\n",
              "      <th>Promo</th>\n",
              "      <th>Promo2</th>\n",
              "      <th></th>\n",
              "      <th></th>\n",
              "    </tr>\n",
              "  </thead>\n",
              "  <tbody>\n",
              "    <tr>\n",
              "      <th rowspan=\"2\" valign=\"top\">0</th>\n",
              "      <th>0</th>\n",
              "      <td>6328.187633</td>\n",
              "      <td>775.176548</td>\n",
              "    </tr>\n",
              "    <tr>\n",
              "      <th>1</th>\n",
              "      <td>5529.566684</td>\n",
              "      <td>618.262681</td>\n",
              "    </tr>\n",
              "    <tr>\n",
              "      <th rowspan=\"2\" valign=\"top\">1</th>\n",
              "      <th>0</th>\n",
              "      <td>8618.452062</td>\n",
              "      <td>928.608751</td>\n",
              "    </tr>\n",
              "    <tr>\n",
              "      <th>1</th>\n",
              "      <td>7836.672987</td>\n",
              "      <td>759.845867</td>\n",
              "    </tr>\n",
              "  </tbody>\n",
              "</table>\n",
              "</div>"
            ],
            "text/plain": [
              "                    Sales   Customers\n",
              "Promo Promo2                         \n",
              "0     0       6328.187633  775.176548\n",
              "      1       5529.566684  618.262681\n",
              "1     0       8618.452062  928.608751\n",
              "      1       7836.672987  759.845867"
            ]
          },
          "metadata": {
            "tags": []
          },
          "execution_count": 47
        }
      ]
    },
    {
      "cell_type": "code",
      "metadata": {
        "id": "kmeLoFPyTBka",
        "colab_type": "code",
        "outputId": "e7637649-0e43-425c-9344-1bcf0d7117c5",
        "colab": {
          "base_uri": "https://localhost:8080/",
          "height": 194
        }
      },
      "source": [
        "promo_compare_median = master_table.groupby(['Promo', 'Promo2'])['Sales', 'Customers'].median()\n",
        "promo_compare_median"
      ],
      "execution_count": 0,
      "outputs": [
        {
          "output_type": "execute_result",
          "data": {
            "text/html": [
              "<div>\n",
              "<style scoped>\n",
              "    .dataframe tbody tr th:only-of-type {\n",
              "        vertical-align: middle;\n",
              "    }\n",
              "\n",
              "    .dataframe tbody tr th {\n",
              "        vertical-align: top;\n",
              "    }\n",
              "\n",
              "    .dataframe thead th {\n",
              "        text-align: right;\n",
              "    }\n",
              "</style>\n",
              "<table border=\"1\" class=\"dataframe\">\n",
              "  <thead>\n",
              "    <tr style=\"text-align: right;\">\n",
              "      <th></th>\n",
              "      <th></th>\n",
              "      <th>Sales</th>\n",
              "      <th>Customers</th>\n",
              "    </tr>\n",
              "    <tr>\n",
              "      <th>Promo</th>\n",
              "      <th>Promo2</th>\n",
              "      <th></th>\n",
              "      <th></th>\n",
              "    </tr>\n",
              "  </thead>\n",
              "  <tbody>\n",
              "    <tr>\n",
              "      <th rowspan=\"2\" valign=\"top\">0</th>\n",
              "      <th>0</th>\n",
              "      <td>5757</td>\n",
              "      <td>676</td>\n",
              "    </tr>\n",
              "    <tr>\n",
              "      <th>1</th>\n",
              "      <td>5181</td>\n",
              "      <td>554</td>\n",
              "    </tr>\n",
              "    <tr>\n",
              "      <th rowspan=\"2\" valign=\"top\">1</th>\n",
              "      <th>0</th>\n",
              "      <td>7950</td>\n",
              "      <td>833</td>\n",
              "    </tr>\n",
              "    <tr>\n",
              "      <th>1</th>\n",
              "      <td>7358</td>\n",
              "      <td>689</td>\n",
              "    </tr>\n",
              "  </tbody>\n",
              "</table>\n",
              "</div>"
            ],
            "text/plain": [
              "              Sales  Customers\n",
              "Promo Promo2                  \n",
              "0     0        5757        676\n",
              "      1        5181        554\n",
              "1     0        7950        833\n",
              "      1        7358        689"
            ]
          },
          "metadata": {
            "tags": []
          },
          "execution_count": 48
        }
      ]
    },
    {
      "cell_type": "code",
      "metadata": {
        "id": "x_5c47tfTVMI",
        "colab_type": "code",
        "outputId": "29aef613-af7c-4636-e6b1-abd54c961cf0",
        "colab": {
          "base_uri": "https://localhost:8080/",
          "height": 194
        }
      },
      "source": [
        "promo_compare_deviation = master_table.groupby(['Promo', 'Promo2'])['Sales', 'Customers'].std()\n",
        "promo_compare_deviation"
      ],
      "execution_count": 0,
      "outputs": [
        {
          "output_type": "execute_result",
          "data": {
            "text/html": [
              "<div>\n",
              "<style scoped>\n",
              "    .dataframe tbody tr th:only-of-type {\n",
              "        vertical-align: middle;\n",
              "    }\n",
              "\n",
              "    .dataframe tbody tr th {\n",
              "        vertical-align: top;\n",
              "    }\n",
              "\n",
              "    .dataframe thead th {\n",
              "        text-align: right;\n",
              "    }\n",
              "</style>\n",
              "<table border=\"1\" class=\"dataframe\">\n",
              "  <thead>\n",
              "    <tr style=\"text-align: right;\">\n",
              "      <th></th>\n",
              "      <th></th>\n",
              "      <th>Sales</th>\n",
              "      <th>Customers</th>\n",
              "    </tr>\n",
              "    <tr>\n",
              "      <th>Promo</th>\n",
              "      <th>Promo2</th>\n",
              "      <th></th>\n",
              "      <th></th>\n",
              "    </tr>\n",
              "  </thead>\n",
              "  <tbody>\n",
              "    <tr>\n",
              "      <th rowspan=\"2\" valign=\"top\">0</th>\n",
              "      <th>0</th>\n",
              "      <td>2977.808321</td>\n",
              "      <td>446.755737</td>\n",
              "    </tr>\n",
              "    <tr>\n",
              "      <th>1</th>\n",
              "      <td>2151.704466</td>\n",
              "      <td>300.496557</td>\n",
              "    </tr>\n",
              "    <tr>\n",
              "      <th rowspan=\"2\" valign=\"top\">1</th>\n",
              "      <th>0</th>\n",
              "      <td>3450.224837</td>\n",
              "      <td>444.867987</td>\n",
              "    </tr>\n",
              "    <tr>\n",
              "      <th>1</th>\n",
              "      <td>2818.324929</td>\n",
              "      <td>330.933118</td>\n",
              "    </tr>\n",
              "  </tbody>\n",
              "</table>\n",
              "</div>"
            ],
            "text/plain": [
              "                    Sales   Customers\n",
              "Promo Promo2                         \n",
              "0     0       2977.808321  446.755737\n",
              "      1       2151.704466  300.496557\n",
              "1     0       3450.224837  444.867987\n",
              "      1       2818.324929  330.933118"
            ]
          },
          "metadata": {
            "tags": []
          },
          "execution_count": 49
        }
      ]
    },
    {
      "cell_type": "markdown",
      "metadata": {
        "id": "jWBtgBiviy_r",
        "colab_type": "text"
      },
      "source": [
        "Note : Stores that participated in consicutive Promotions are showing lesser average number of customers than the stores which are not participating in Promotion. The average sales follows the same pattern."
      ]
    },
    {
      "cell_type": "markdown",
      "metadata": {
        "id": "cQWRwgvWDwGl",
        "colab_type": "text"
      },
      "source": [
        "#### Deep Dive "
      ]
    },
    {
      "cell_type": "code",
      "metadata": {
        "id": "5XdF6XtzEwNl",
        "colab_type": "code",
        "outputId": "f71c9542-6178-4047-b837-582229daaeaa",
        "colab": {
          "base_uri": "https://localhost:8080/",
          "height": 729
        }
      },
      "source": [
        "## Sales per DayOfWeek according to Promo and Promo 2\n",
        "t = sns.catplot(data = master_table, kind = 'point', x = 'DayOfWeek', y = \"Sales\", \n",
        "               col = 'Promo', \n",
        "               row = 'Promo2')"
      ],
      "execution_count": 0,
      "outputs": [
        {
          "output_type": "display_data",
          "data": {
            "image/png": "[encoded data removed]",
            "text/plain": [
              "<Figure size 720x720 with 4 Axes>"
            ]
          },
          "metadata": {
            "tags": []
          }
        }
      ]
    },
    {
      "cell_type": "code",
      "metadata": {
        "colab_type": "code",
        "id": "U2l9WChTdfvZ",
        "outputId": "aa5b799e-0820-41d8-f5fa-ad8483c2ed61",
        "colab": {
          "base_uri": "https://localhost:8080/",
          "height": 767
        }
      },
      "source": [
        "## Sales per DayOfWeek according to Promo and Store Type\n",
        "sns.catplot(data = master_table, kind = 'point', x = \"DayOfWeek\", y = \"Sales\", \n",
        "               col = \"StoreType\",\n",
        "               row = \"Promo\")"
      ],
      "execution_count": 0,
      "outputs": [
        {
          "output_type": "execute_result",
          "data": {
            "text/plain": [
              "<seaborn.axisgrid.FacetGrid at 0x7fe27c4b6978>"
            ]
          },
          "metadata": {
            "tags": []
          },
          "execution_count": 51
        },
        {
          "output_type": "display_data",
          "data": {
            "image/png": "[encoded data removed]",
            "text/plain": [
              "<Figure size 1440x720 with 8 Axes>"
            ]
          },
          "metadata": {
            "tags": []
          }
        }
      ]
    },
    {
      "cell_type": "markdown",
      "metadata": {
        "id": "hwzmwYZW48US",
        "colab_type": "text"
      },
      "source": [
        "\n",
        "Note: Promo was generally run on weekdays and not weekends. Mondays show comparatively higher average sales than other days.\n",
        "Also, StoreType B has higher average sales than other StoreTypes.\n",
        "\n"
      ]
    },
    {
      "cell_type": "markdown",
      "metadata": {
        "id": "LonfQG6dzBYN",
        "colab_type": "text"
      },
      "source": [
        "### Day of Week & Holidays\n",
        "- Average Sales and number of customers\n",
        "- Weekday - Weekend analysis\n",
        "- StateHoliday and SchoolHoliday"
      ]
    },
    {
      "cell_type": "code",
      "metadata": {
        "id": "T_tGNhKzJ6Bu",
        "colab_type": "code",
        "outputId": "78b7d13e-98f5-4a21-9eae-c2f740fab0de",
        "colab": {
          "base_uri": "https://localhost:8080/",
          "height": 252
        }
      },
      "source": [
        "pivot_daysales = train.pivot_table(index=['DayOfWeek'],values=[\"Sales\",\"Customers\"], aggfunc='mean')\n",
        "pivot_daysales = pivot_daysales.reset_index()\n",
        "pivot_daysales.columns = ['DayOfWeek','AvgCustomers','AvgSales']\n",
        "pivot_daysales[\"DayName\"] = [\"Monday\",\"Tuesday\",\"Wednesday\",\"Thursday\",\"Friday\",\"Saturday\",\"Sunday\"]\n",
        "pivot_daysales"
      ],
      "execution_count": 0,
      "outputs": [
        {
          "output_type": "execute_result",
          "data": {
            "text/html": [
              "<div>\n",
              "<style scoped>\n",
              "    .dataframe tbody tr th:only-of-type {\n",
              "        vertical-align: middle;\n",
              "    }\n",
              "\n",
              "    .dataframe tbody tr th {\n",
              "        vertical-align: top;\n",
              "    }\n",
              "\n",
              "    .dataframe thead th {\n",
              "        text-align: right;\n",
              "    }\n",
              "</style>\n",
              "<table border=\"1\" class=\"dataframe\">\n",
              "  <thead>\n",
              "    <tr style=\"text-align: right;\">\n",
              "      <th></th>\n",
              "      <th>DayOfWeek</th>\n",
              "      <th>AvgCustomers</th>\n",
              "      <th>AvgSales</th>\n",
              "      <th>DayName</th>\n",
              "    </tr>\n",
              "  </thead>\n",
              "  <tbody>\n",
              "    <tr>\n",
              "      <th>0</th>\n",
              "      <td>1</td>\n",
              "      <td>855.463641</td>\n",
              "      <td>8216.252259</td>\n",
              "      <td>Monday</td>\n",
              "    </tr>\n",
              "    <tr>\n",
              "      <th>1</th>\n",
              "      <td>2</td>\n",
              "      <td>770.018825</td>\n",
              "      <td>7088.409086</td>\n",
              "      <td>Tuesday</td>\n",
              "    </tr>\n",
              "    <tr>\n",
              "      <th>2</th>\n",
              "      <td>3</td>\n",
              "      <td>740.671932</td>\n",
              "      <td>6728.786679</td>\n",
              "      <td>Wednesday</td>\n",
              "    </tr>\n",
              "    <tr>\n",
              "      <th>3</th>\n",
              "      <td>4</td>\n",
              "      <td>755.670769</td>\n",
              "      <td>6768.214973</td>\n",
              "      <td>Thursday</td>\n",
              "    </tr>\n",
              "    <tr>\n",
              "      <th>4</th>\n",
              "      <td>5</td>\n",
              "      <td>781.811113</td>\n",
              "      <td>7073.034133</td>\n",
              "      <td>Friday</td>\n",
              "    </tr>\n",
              "    <tr>\n",
              "      <th>5</th>\n",
              "      <td>6</td>\n",
              "      <td>660.205023</td>\n",
              "      <td>5875.084935</td>\n",
              "      <td>Saturday</td>\n",
              "    </tr>\n",
              "    <tr>\n",
              "      <th>6</th>\n",
              "      <td>7</td>\n",
              "      <td>1441.532424</td>\n",
              "      <td>8224.723908</td>\n",
              "      <td>Sunday</td>\n",
              "    </tr>\n",
              "  </tbody>\n",
              "</table>\n",
              "</div>"
            ],
            "text/plain": [
              "   DayOfWeek  AvgCustomers     AvgSales    DayName\n",
              "0          1    855.463641  8216.252259     Monday\n",
              "1          2    770.018825  7088.409086    Tuesday\n",
              "2          3    740.671932  6728.786679  Wednesday\n",
              "3          4    755.670769  6768.214973   Thursday\n",
              "4          5    781.811113  7073.034133     Friday\n",
              "5          6    660.205023  5875.084935   Saturday\n",
              "6          7   1441.532424  8224.723908     Sunday"
            ]
          },
          "metadata": {
            "tags": []
          },
          "execution_count": 52
        }
      ]
    },
    {
      "cell_type": "code",
      "metadata": {
        "id": "02U2hOy25Vj-",
        "colab_type": "code",
        "outputId": "2600088f-0615-497b-d435-a3f8275c2ed2",
        "colab": {
          "base_uri": "https://localhost:8080/",
          "height": 252
        }
      },
      "source": [
        "\n",
        "pivot_daysales[\"Weekday\"] = [\"Weekday\",\"Weekday\",\"Weekday\",\"Weekday\",\"Weekday\",\"Weekend\",\"Weekend\"]\n",
        "pivot_daysales\n"
      ],
      "execution_count": 0,
      "outputs": [
        {
          "output_type": "execute_result",
          "data": {
            "text/html": [
              "<div>\n",
              "<style scoped>\n",
              "    .dataframe tbody tr th:only-of-type {\n",
              "        vertical-align: middle;\n",
              "    }\n",
              "\n",
              "    .dataframe tbody tr th {\n",
              "        vertical-align: top;\n",
              "    }\n",
              "\n",
              "    .dataframe thead th {\n",
              "        text-align: right;\n",
              "    }\n",
              "</style>\n",
              "<table border=\"1\" class=\"dataframe\">\n",
              "  <thead>\n",
              "    <tr style=\"text-align: right;\">\n",
              "      <th></th>\n",
              "      <th>DayOfWeek</th>\n",
              "      <th>AvgCustomers</th>\n",
              "      <th>AvgSales</th>\n",
              "      <th>DayName</th>\n",
              "      <th>Weekday</th>\n",
              "    </tr>\n",
              "  </thead>\n",
              "  <tbody>\n",
              "    <tr>\n",
              "      <th>0</th>\n",
              "      <td>1</td>\n",
              "      <td>855.463641</td>\n",
              "      <td>8216.252259</td>\n",
              "      <td>Monday</td>\n",
              "      <td>Weekday</td>\n",
              "    </tr>\n",
              "    <tr>\n",
              "      <th>1</th>\n",
              "      <td>2</td>\n",
              "      <td>770.018825</td>\n",
              "      <td>7088.409086</td>\n",
              "      <td>Tuesday</td>\n",
              "      <td>Weekday</td>\n",
              "    </tr>\n",
              "    <tr>\n",
              "      <th>2</th>\n",
              "      <td>3</td>\n",
              "      <td>740.671932</td>\n",
              "      <td>6728.786679</td>\n",
              "      <td>Wednesday</td>\n",
              "      <td>Weekday</td>\n",
              "    </tr>\n",
              "    <tr>\n",
              "      <th>3</th>\n",
              "      <td>4</td>\n",
              "      <td>755.670769</td>\n",
              "      <td>6768.214973</td>\n",
              "      <td>Thursday</td>\n",
              "      <td>Weekday</td>\n",
              "    </tr>\n",
              "    <tr>\n",
              "      <th>4</th>\n",
              "      <td>5</td>\n",
              "      <td>781.811113</td>\n",
              "      <td>7073.034133</td>\n",
              "      <td>Friday</td>\n",
              "      <td>Weekday</td>\n",
              "    </tr>\n",
              "    <tr>\n",
              "      <th>5</th>\n",
              "      <td>6</td>\n",
              "      <td>660.205023</td>\n",
              "      <td>5875.084935</td>\n",
              "      <td>Saturday</td>\n",
              "      <td>Weekend</td>\n",
              "    </tr>\n",
              "    <tr>\n",
              "      <th>6</th>\n",
              "      <td>7</td>\n",
              "      <td>1441.532424</td>\n",
              "      <td>8224.723908</td>\n",
              "      <td>Sunday</td>\n",
              "      <td>Weekend</td>\n",
              "    </tr>\n",
              "  </tbody>\n",
              "</table>\n",
              "</div>"
            ],
            "text/plain": [
              "   DayOfWeek  AvgCustomers     AvgSales    DayName  Weekday\n",
              "0          1    855.463641  8216.252259     Monday  Weekday\n",
              "1          2    770.018825  7088.409086    Tuesday  Weekday\n",
              "2          3    740.671932  6728.786679  Wednesday  Weekday\n",
              "3          4    755.670769  6768.214973   Thursday  Weekday\n",
              "4          5    781.811113  7073.034133     Friday  Weekday\n",
              "5          6    660.205023  5875.084935   Saturday  Weekend\n",
              "6          7   1441.532424  8224.723908     Sunday  Weekend"
            ]
          },
          "metadata": {
            "tags": []
          },
          "execution_count": 53
        }
      ]
    },
    {
      "cell_type": "markdown",
      "metadata": {
        "id": "00f9JX6n9mZy",
        "colab_type": "text"
      },
      "source": [
        "Note : Here we can see that, a Sunday and Monday are recording maximum average sales than any other Day.\n",
        "Sunday does better in average number of customers than any other day."
      ]
    },
    {
      "cell_type": "code",
      "metadata": {
        "id": "xsd3L3ZS9AVM",
        "colab_type": "code",
        "outputId": "4b82e7ec-6646-4809-feef-6de8227f5109",
        "colab": {
          "base_uri": "https://localhost:8080/",
          "height": 135
        }
      },
      "source": [
        "\n",
        "pivot_weekend = pivot_daysales.pivot_table(index=['Weekday'],values=[\"AvgSales\",\"AvgCustomers\"], aggfunc='mean')\n",
        "pivot_weekend"
      ],
      "execution_count": 0,
      "outputs": [
        {
          "output_type": "execute_result",
          "data": {
            "text/html": [
              "<div>\n",
              "<style scoped>\n",
              "    .dataframe tbody tr th:only-of-type {\n",
              "        vertical-align: middle;\n",
              "    }\n",
              "\n",
              "    .dataframe tbody tr th {\n",
              "        vertical-align: top;\n",
              "    }\n",
              "\n",
              "    .dataframe thead th {\n",
              "        text-align: right;\n",
              "    }\n",
              "</style>\n",
              "<table border=\"1\" class=\"dataframe\">\n",
              "  <thead>\n",
              "    <tr style=\"text-align: right;\">\n",
              "      <th></th>\n",
              "      <th>AvgCustomers</th>\n",
              "      <th>AvgSales</th>\n",
              "    </tr>\n",
              "    <tr>\n",
              "      <th>Weekday</th>\n",
              "      <th></th>\n",
              "      <th></th>\n",
              "    </tr>\n",
              "  </thead>\n",
              "  <tbody>\n",
              "    <tr>\n",
              "      <th>Weekday</th>\n",
              "      <td>780.727256</td>\n",
              "      <td>7174.939426</td>\n",
              "    </tr>\n",
              "    <tr>\n",
              "      <th>Weekend</th>\n",
              "      <td>1050.868724</td>\n",
              "      <td>7049.904421</td>\n",
              "    </tr>\n",
              "  </tbody>\n",
              "</table>\n",
              "</div>"
            ],
            "text/plain": [
              "         AvgCustomers     AvgSales\n",
              "Weekday                           \n",
              "Weekday    780.727256  7174.939426\n",
              "Weekend   1050.868724  7049.904421"
            ]
          },
          "metadata": {
            "tags": []
          },
          "execution_count": 54
        }
      ]
    },
    {
      "cell_type": "markdown",
      "metadata": {
        "id": "FAHKwnwe8y8c",
        "colab_type": "text"
      },
      "source": [
        "Note : Here we can see that, Weekends see more number of number of customers, but average sales as well the per day per customer sale is lesser than the weekdays. This might be due to more number of window shoppers. "
      ]
    },
    {
      "cell_type": "markdown",
      "metadata": {
        "id": "snrMyVRj-ws3",
        "colab_type": "text"
      },
      "source": [
        "Now Let's see if School or State holiday have any effect on the sales and customers."
      ]
    },
    {
      "cell_type": "code",
      "metadata": {
        "id": "2Xjs7kOn-8eH",
        "colab_type": "code",
        "outputId": "43132812-51ed-4722-f59d-613a744dfb8c",
        "colab": {
          "base_uri": "https://localhost:8080/",
          "height": 135
        }
      },
      "source": [
        "pivot_ScHoliday = train.pivot_table(index=['SchoolHoliday'],values=[\"Sales\",\"Customers\"], aggfunc='mean')\n",
        "pivot_ScHoliday"
      ],
      "execution_count": 0,
      "outputs": [
        {
          "output_type": "execute_result",
          "data": {
            "text/html": [
              "<div>\n",
              "<style scoped>\n",
              "    .dataframe tbody tr th:only-of-type {\n",
              "        vertical-align: middle;\n",
              "    }\n",
              "\n",
              "    .dataframe tbody tr th {\n",
              "        vertical-align: top;\n",
              "    }\n",
              "\n",
              "    .dataframe thead th {\n",
              "        text-align: right;\n",
              "    }\n",
              "</style>\n",
              "<table border=\"1\" class=\"dataframe\">\n",
              "  <thead>\n",
              "    <tr style=\"text-align: right;\">\n",
              "      <th></th>\n",
              "      <th>Customers</th>\n",
              "      <th>Sales</th>\n",
              "    </tr>\n",
              "    <tr>\n",
              "      <th>SchoolHoliday</th>\n",
              "      <th></th>\n",
              "      <th></th>\n",
              "    </tr>\n",
              "  </thead>\n",
              "  <tbody>\n",
              "    <tr>\n",
              "      <th>0</th>\n",
              "      <td>757.879906</td>\n",
              "      <td>6897.207830</td>\n",
              "    </tr>\n",
              "    <tr>\n",
              "      <th>1</th>\n",
              "      <td>783.178586</td>\n",
              "      <td>7200.710282</td>\n",
              "    </tr>\n",
              "  </tbody>\n",
              "</table>\n",
              "</div>"
            ],
            "text/plain": [
              "                Customers        Sales\n",
              "SchoolHoliday                         \n",
              "0              757.879906  6897.207830\n",
              "1              783.178586  7200.710282"
            ]
          },
          "metadata": {
            "tags": []
          },
          "execution_count": 55
        }
      ]
    },
    {
      "cell_type": "code",
      "metadata": {
        "id": "xXGHzkPCHuKa",
        "colab_type": "code",
        "outputId": "b5e5c794-b727-47d5-aca4-013437f2f597",
        "colab": {
          "base_uri": "https://localhost:8080/",
          "height": 164
        }
      },
      "source": [
        "pivot_ScHoliday = pivot_ScHoliday.reset_index()\n",
        "pivot_StHoliday = train.pivot_table(index=['StateHoliday'],values=[\"Sales\",\"Customers\"], aggfunc='mean')\n",
        "pivot_StHoliday = pivot_StHoliday.reset_index()\n",
        "pivot_StHoliday"
      ],
      "execution_count": 0,
      "outputs": [
        {
          "output_type": "execute_result",
          "data": {
            "text/html": [
              "<div>\n",
              "<style scoped>\n",
              "    .dataframe tbody tr th:only-of-type {\n",
              "        vertical-align: middle;\n",
              "    }\n",
              "\n",
              "    .dataframe tbody tr th {\n",
              "        vertical-align: top;\n",
              "    }\n",
              "\n",
              "    .dataframe thead th {\n",
              "        text-align: right;\n",
              "    }\n",
              "</style>\n",
              "<table border=\"1\" class=\"dataframe\">\n",
              "  <thead>\n",
              "    <tr style=\"text-align: right;\">\n",
              "      <th></th>\n",
              "      <th>StateHoliday</th>\n",
              "      <th>Customers</th>\n",
              "      <th>Sales</th>\n",
              "    </tr>\n",
              "  </thead>\n",
              "  <tbody>\n",
              "    <tr>\n",
              "      <th>0</th>\n",
              "      <td>0</td>\n",
              "      <td>762.125501</td>\n",
              "      <td>6953.960229</td>\n",
              "    </tr>\n",
              "    <tr>\n",
              "      <th>1</th>\n",
              "      <td>a</td>\n",
              "      <td>1279.172911</td>\n",
              "      <td>8487.471182</td>\n",
              "    </tr>\n",
              "    <tr>\n",
              "      <th>2</th>\n",
              "      <td>b</td>\n",
              "      <td>1686.889655</td>\n",
              "      <td>9887.889655</td>\n",
              "    </tr>\n",
              "    <tr>\n",
              "      <th>3</th>\n",
              "      <td>c</td>\n",
              "      <td>1569.225352</td>\n",
              "      <td>9743.746479</td>\n",
              "    </tr>\n",
              "  </tbody>\n",
              "</table>\n",
              "</div>"
            ],
            "text/plain": [
              "  StateHoliday    Customers        Sales\n",
              "0            0   762.125501  6953.960229\n",
              "1            a  1279.172911  8487.471182\n",
              "2            b  1686.889655  9887.889655\n",
              "3            c  1569.225352  9743.746479"
            ]
          },
          "metadata": {
            "tags": []
          },
          "execution_count": 56
        }
      ]
    },
    {
      "cell_type": "markdown",
      "metadata": {
        "id": "rj7ax0Bx9_vo",
        "colab_type": "text"
      },
      "source": [
        "School Holidays see a plunge in the average sales value. State Holidays of type B and C see higher average number of customers and average sales."
      ]
    },
    {
      "cell_type": "markdown",
      "metadata": {
        "id": "ltm6RFF-ysND",
        "colab_type": "text"
      },
      "source": [
        "### Store Type and Assortment\n"
      ]
    },
    {
      "cell_type": "code",
      "metadata": {
        "id": "ZT13531jyE1D",
        "colab_type": "code",
        "outputId": "61bb1d73-e252-41c6-d379-e0a6c6755e53",
        "colab": {
          "base_uri": "https://localhost:8080/",
          "height": 164
        }
      },
      "source": [
        "store.describe(include=['object'])"
      ],
      "execution_count": 0,
      "outputs": [
        {
          "output_type": "execute_result",
          "data": {
            "text/html": [
              "<div>\n",
              "<style scoped>\n",
              "    .dataframe tbody tr th:only-of-type {\n",
              "        vertical-align: middle;\n",
              "    }\n",
              "\n",
              "    .dataframe tbody tr th {\n",
              "        vertical-align: top;\n",
              "    }\n",
              "\n",
              "    .dataframe thead th {\n",
              "        text-align: right;\n",
              "    }\n",
              "</style>\n",
              "<table border=\"1\" class=\"dataframe\">\n",
              "  <thead>\n",
              "    <tr style=\"text-align: right;\">\n",
              "      <th></th>\n",
              "      <th>StoreType</th>\n",
              "      <th>Assortment</th>\n",
              "      <th>PromoInterval</th>\n",
              "    </tr>\n",
              "  </thead>\n",
              "  <tbody>\n",
              "    <tr>\n",
              "      <th>count</th>\n",
              "      <td>1115</td>\n",
              "      <td>1115</td>\n",
              "      <td>1115</td>\n",
              "    </tr>\n",
              "    <tr>\n",
              "      <th>unique</th>\n",
              "      <td>4</td>\n",
              "      <td>3</td>\n",
              "      <td>4</td>\n",
              "    </tr>\n",
              "    <tr>\n",
              "      <th>top</th>\n",
              "      <td>a</td>\n",
              "      <td>a</td>\n",
              "      <td>0</td>\n",
              "    </tr>\n",
              "    <tr>\n",
              "      <th>freq</th>\n",
              "      <td>602</td>\n",
              "      <td>593</td>\n",
              "      <td>544</td>\n",
              "    </tr>\n",
              "  </tbody>\n",
              "</table>\n",
              "</div>"
            ],
            "text/plain": [
              "       StoreType Assortment  PromoInterval\n",
              "count       1115       1115           1115\n",
              "unique         4          3              4\n",
              "top            a          a              0\n",
              "freq         602        593            544"
            ]
          },
          "metadata": {
            "tags": []
          },
          "execution_count": 57
        }
      ]
    },
    {
      "cell_type": "code",
      "metadata": {
        "id": "VPH1OT3vJ6Ge",
        "colab_type": "code",
        "outputId": "b9d1793a-3d79-4839-ef1b-99873c7e787e",
        "colab": {
          "base_uri": "https://localhost:8080/",
          "height": 311
        }
      },
      "source": [
        "store_pivot = store.pivot_table(index=['StoreType','Assortment'],values=[\"Store\"], aggfunc='count')\n",
        "store_pivot = store_pivot.reset_index()\n",
        "store_pivot.columns = ['StoreType','Assortment','Count']\n",
        "store_pivot"
      ],
      "execution_count": 0,
      "outputs": [
        {
          "output_type": "execute_result",
          "data": {
            "text/html": [
              "<div>\n",
              "<style scoped>\n",
              "    .dataframe tbody tr th:only-of-type {\n",
              "        vertical-align: middle;\n",
              "    }\n",
              "\n",
              "    .dataframe tbody tr th {\n",
              "        vertical-align: top;\n",
              "    }\n",
              "\n",
              "    .dataframe thead th {\n",
              "        text-align: right;\n",
              "    }\n",
              "</style>\n",
              "<table border=\"1\" class=\"dataframe\">\n",
              "  <thead>\n",
              "    <tr style=\"text-align: right;\">\n",
              "      <th></th>\n",
              "      <th>StoreType</th>\n",
              "      <th>Assortment</th>\n",
              "      <th>Count</th>\n",
              "    </tr>\n",
              "  </thead>\n",
              "  <tbody>\n",
              "    <tr>\n",
              "      <th>0</th>\n",
              "      <td>a</td>\n",
              "      <td>a</td>\n",
              "      <td>381</td>\n",
              "    </tr>\n",
              "    <tr>\n",
              "      <th>1</th>\n",
              "      <td>a</td>\n",
              "      <td>c</td>\n",
              "      <td>221</td>\n",
              "    </tr>\n",
              "    <tr>\n",
              "      <th>2</th>\n",
              "      <td>b</td>\n",
              "      <td>a</td>\n",
              "      <td>7</td>\n",
              "    </tr>\n",
              "    <tr>\n",
              "      <th>3</th>\n",
              "      <td>b</td>\n",
              "      <td>b</td>\n",
              "      <td>9</td>\n",
              "    </tr>\n",
              "    <tr>\n",
              "      <th>4</th>\n",
              "      <td>b</td>\n",
              "      <td>c</td>\n",
              "      <td>1</td>\n",
              "    </tr>\n",
              "    <tr>\n",
              "      <th>5</th>\n",
              "      <td>c</td>\n",
              "      <td>a</td>\n",
              "      <td>77</td>\n",
              "    </tr>\n",
              "    <tr>\n",
              "      <th>6</th>\n",
              "      <td>c</td>\n",
              "      <td>c</td>\n",
              "      <td>71</td>\n",
              "    </tr>\n",
              "    <tr>\n",
              "      <th>7</th>\n",
              "      <td>d</td>\n",
              "      <td>a</td>\n",
              "      <td>128</td>\n",
              "    </tr>\n",
              "    <tr>\n",
              "      <th>8</th>\n",
              "      <td>d</td>\n",
              "      <td>c</td>\n",
              "      <td>220</td>\n",
              "    </tr>\n",
              "  </tbody>\n",
              "</table>\n",
              "</div>"
            ],
            "text/plain": [
              "  StoreType Assortment  Count\n",
              "0         a          a    381\n",
              "1         a          c    221\n",
              "2         b          a      7\n",
              "3         b          b      9\n",
              "4         b          c      1\n",
              "5         c          a     77\n",
              "6         c          c     71\n",
              "7         d          a    128\n",
              "8         d          c    220"
            ]
          },
          "metadata": {
            "tags": []
          },
          "execution_count": 58
        }
      ]
    },
    {
      "cell_type": "code",
      "metadata": {
        "id": "evGDneRSwGGO",
        "colab_type": "code",
        "outputId": "ed2f992f-1490-4b2e-e519-235a6b2b8c7b",
        "colab": {
          "base_uri": "https://localhost:8080/",
          "height": 459
        }
      },
      "source": [
        "store_plot = sns.catplot(x=\"StoreType\", hue=\"Assortment\", data=store, kind=\"count\", height=6, aspect=1.5, palette='dark', order=['a','d','c', 'b'])\n",
        "ax.set_title('Distribution of Assortments per StoreType')"
      ],
      "execution_count": 0,
      "outputs": [
        {
          "output_type": "execute_result",
          "data": {
            "text/plain": [
              "Text(0.5, 1, 'Distribution of Assortments per StoreType')"
            ]
          },
          "metadata": {
            "tags": []
          },
          "execution_count": 59
        },
        {
          "output_type": "display_data",
          "data": {
            "image/png": "[encoded data removed]",
            "text/plain": [
              "<Figure size 713.375x432 with 1 Axes>"
            ]
          },
          "metadata": {
            "tags": []
          }
        }
      ]
    },
    {
      "cell_type": "code",
      "metadata": {
        "id": "551JmeF1Jvai",
        "colab_type": "code",
        "outputId": "001d96b0-4854-4c9d-e967-176f8c48702b",
        "colab": {
          "base_uri": "https://localhost:8080/",
          "height": 194
        }
      },
      "source": [
        "Type_pivot = master_table.pivot_table(index=['StoreType'],values=[\"Sales\", \"Customers\"], aggfunc='mean')\n",
        "Type_pivot\n"
      ],
      "execution_count": 0,
      "outputs": [
        {
          "output_type": "execute_result",
          "data": {
            "text/html": [
              "<div>\n",
              "<style scoped>\n",
              "    .dataframe tbody tr th:only-of-type {\n",
              "        vertical-align: middle;\n",
              "    }\n",
              "\n",
              "    .dataframe tbody tr th {\n",
              "        vertical-align: top;\n",
              "    }\n",
              "\n",
              "    .dataframe thead th {\n",
              "        text-align: right;\n",
              "    }\n",
              "</style>\n",
              "<table border=\"1\" class=\"dataframe\">\n",
              "  <thead>\n",
              "    <tr style=\"text-align: right;\">\n",
              "      <th></th>\n",
              "      <th>Customers</th>\n",
              "      <th>Sales</th>\n",
              "    </tr>\n",
              "    <tr>\n",
              "      <th>StoreType</th>\n",
              "      <th></th>\n",
              "      <th></th>\n",
              "    </tr>\n",
              "  </thead>\n",
              "  <tbody>\n",
              "    <tr>\n",
              "      <th>a</th>\n",
              "      <td>795.422370</td>\n",
              "      <td>6925.697986</td>\n",
              "    </tr>\n",
              "    <tr>\n",
              "      <th>b</th>\n",
              "      <td>2022.211825</td>\n",
              "      <td>10233.380141</td>\n",
              "    </tr>\n",
              "    <tr>\n",
              "      <th>c</th>\n",
              "      <td>815.538073</td>\n",
              "      <td>6933.126425</td>\n",
              "    </tr>\n",
              "    <tr>\n",
              "      <th>d</th>\n",
              "      <td>606.353935</td>\n",
              "      <td>6822.300064</td>\n",
              "    </tr>\n",
              "  </tbody>\n",
              "</table>\n",
              "</div>"
            ],
            "text/plain": [
              "             Customers         Sales\n",
              "StoreType                           \n",
              "a           795.422370   6925.697986\n",
              "b          2022.211825  10233.380141\n",
              "c           815.538073   6933.126425\n",
              "d           606.353935   6822.300064"
            ]
          },
          "metadata": {
            "tags": []
          },
          "execution_count": 60
        }
      ]
    },
    {
      "cell_type": "code",
      "metadata": {
        "id": "EYaALc-AJ56O",
        "colab_type": "code",
        "outputId": "295bf0cd-4161-4d0b-9bda-4ff13ae75f85",
        "colab": {
          "base_uri": "https://localhost:8080/",
          "height": 164
        }
      },
      "source": [
        "assort_pivot = master_table.pivot_table(index=['Assortment'],values=[\"Sales\", \"Customers\"], aggfunc='mean')\n",
        "assort_pivot"
      ],
      "execution_count": 0,
      "outputs": [
        {
          "output_type": "execute_result",
          "data": {
            "text/html": [
              "<div>\n",
              "<style scoped>\n",
              "    .dataframe tbody tr th:only-of-type {\n",
              "        vertical-align: middle;\n",
              "    }\n",
              "\n",
              "    .dataframe tbody tr th {\n",
              "        vertical-align: top;\n",
              "    }\n",
              "\n",
              "    .dataframe thead th {\n",
              "        text-align: right;\n",
              "    }\n",
              "</style>\n",
              "<table border=\"1\" class=\"dataframe\">\n",
              "  <thead>\n",
              "    <tr style=\"text-align: right;\">\n",
              "      <th></th>\n",
              "      <th>Customers</th>\n",
              "      <th>Sales</th>\n",
              "    </tr>\n",
              "    <tr>\n",
              "      <th>Assortment</th>\n",
              "      <th></th>\n",
              "      <th></th>\n",
              "    </tr>\n",
              "  </thead>\n",
              "  <tbody>\n",
              "    <tr>\n",
              "      <th>a</th>\n",
              "      <td>748.000978</td>\n",
              "      <td>6621.523057</td>\n",
              "    </tr>\n",
              "    <tr>\n",
              "      <th>b</th>\n",
              "      <td>2067.550250</td>\n",
              "      <td>8642.503594</td>\n",
              "    </tr>\n",
              "    <tr>\n",
              "      <th>c</th>\n",
              "      <td>752.202641</td>\n",
              "      <td>7300.843547</td>\n",
              "    </tr>\n",
              "  </tbody>\n",
              "</table>\n",
              "</div>"
            ],
            "text/plain": [
              "              Customers        Sales\n",
              "Assortment                          \n",
              "a            748.000978  6621.523057\n",
              "b           2067.550250  8642.503594\n",
              "c            752.202641  7300.843547"
            ]
          },
          "metadata": {
            "tags": []
          },
          "execution_count": 61
        }
      ]
    },
    {
      "cell_type": "markdown",
      "metadata": {
        "id": "0guDzL2aAWEA",
        "colab_type": "text"
      },
      "source": [
        "Now we will see if Store type and assortment affects Sales in any way"
      ]
    },
    {
      "cell_type": "code",
      "metadata": {
        "id": "eayDzeJ7J58q",
        "colab_type": "code",
        "outputId": "b05cb28e-28a4-41f9-d91f-b6390127a113",
        "colab": {
          "base_uri": "https://localhost:8080/",
          "height": 340
        }
      },
      "source": [
        "store_pivot = master_table.pivot_table(index=['StoreType','Assortment'],values=[\"Sales\", \"Customers\"], aggfunc='mean')\n",
        "store_pivot"
      ],
      "execution_count": 0,
      "outputs": [
        {
          "output_type": "execute_result",
          "data": {
            "text/html": [
              "<div>\n",
              "<style scoped>\n",
              "    .dataframe tbody tr th:only-of-type {\n",
              "        vertical-align: middle;\n",
              "    }\n",
              "\n",
              "    .dataframe tbody tr th {\n",
              "        vertical-align: top;\n",
              "    }\n",
              "\n",
              "    .dataframe thead th {\n",
              "        text-align: right;\n",
              "    }\n",
              "</style>\n",
              "<table border=\"1\" class=\"dataframe\">\n",
              "  <thead>\n",
              "    <tr style=\"text-align: right;\">\n",
              "      <th></th>\n",
              "      <th></th>\n",
              "      <th>Customers</th>\n",
              "      <th>Sales</th>\n",
              "    </tr>\n",
              "    <tr>\n",
              "      <th>StoreType</th>\n",
              "      <th>Assortment</th>\n",
              "      <th></th>\n",
              "      <th></th>\n",
              "    </tr>\n",
              "  </thead>\n",
              "  <tbody>\n",
              "    <tr>\n",
              "      <th rowspan=\"2\" valign=\"top\">a</th>\n",
              "      <th>a</th>\n",
              "      <td>759.311081</td>\n",
              "      <td>6538.189027</td>\n",
              "    </tr>\n",
              "    <tr>\n",
              "      <th>c</th>\n",
              "      <td>855.819997</td>\n",
              "      <td>7573.822775</td>\n",
              "    </tr>\n",
              "    <tr>\n",
              "      <th rowspan=\"3\" valign=\"top\">b</th>\n",
              "      <th>a</th>\n",
              "      <td>1804.982993</td>\n",
              "      <td>11133.992979</td>\n",
              "    </tr>\n",
              "    <tr>\n",
              "      <th>b</th>\n",
              "      <td>2067.550250</td>\n",
              "      <td>8642.503594</td>\n",
              "    </tr>\n",
              "    <tr>\n",
              "      <th>c</th>\n",
              "      <td>3105.053079</td>\n",
              "      <td>17969.556263</td>\n",
              "    </tr>\n",
              "    <tr>\n",
              "      <th rowspan=\"2\" valign=\"top\">c</th>\n",
              "      <th>a</th>\n",
              "      <td>839.963231</td>\n",
              "      <td>6835.748557</td>\n",
              "    </tr>\n",
              "    <tr>\n",
              "      <th>c</th>\n",
              "      <td>789.254567</td>\n",
              "      <td>7037.913129</td>\n",
              "    </tr>\n",
              "    <tr>\n",
              "      <th rowspan=\"2\" valign=\"top\">d</th>\n",
              "      <th>a</th>\n",
              "      <td>584.033083</td>\n",
              "      <td>6433.756093</td>\n",
              "    </tr>\n",
              "    <tr>\n",
              "      <th>c</th>\n",
              "      <td>619.063299</td>\n",
              "      <td>7043.534764</td>\n",
              "    </tr>\n",
              "  </tbody>\n",
              "</table>\n",
              "</div>"
            ],
            "text/plain": [
              "                        Customers         Sales\n",
              "StoreType Assortment                           \n",
              "a         a            759.311081   6538.189027\n",
              "          c            855.819997   7573.822775\n",
              "b         a           1804.982993  11133.992979\n",
              "          b           2067.550250   8642.503594\n",
              "          c           3105.053079  17969.556263\n",
              "c         a            839.963231   6835.748557\n",
              "          c            789.254567   7037.913129\n",
              "d         a            584.033083   6433.756093\n",
              "          c            619.063299   7043.534764"
            ]
          },
          "metadata": {
            "tags": []
          },
          "execution_count": 62
        }
      ]
    },
    {
      "cell_type": "markdown",
      "metadata": {
        "id": "QX7AAbg-XFc5",
        "colab_type": "text"
      },
      "source": [
        "Note : \n",
        "- Store Type : Store Type 'b' shows highest average Customers and highest average sales.\n",
        "\n",
        "- Assortment : Assortment 'b' show highest average number of customers.\n",
        "\n",
        "- When we combine the two, we can see Store Type 'b' having assortment 'c', has highest number of customers as well as Average Sales."
      ]
    },
    {
      "cell_type": "code",
      "metadata": {
        "id": "4LjKcjiKWHA_",
        "colab_type": "code",
        "outputId": "fccbb881-6163-4559-8bb6-cdc0f5b0ee71",
        "colab": {
          "base_uri": "https://localhost:8080/",
          "height": 194
        }
      },
      "source": [
        "store_type_median = master_table.groupby(['StoreType'])['Sales', 'Customers'].median()\n",
        "store_type_median"
      ],
      "execution_count": 0,
      "outputs": [
        {
          "output_type": "execute_result",
          "data": {
            "text/html": [
              "<div>\n",
              "<style scoped>\n",
              "    .dataframe tbody tr th:only-of-type {\n",
              "        vertical-align: middle;\n",
              "    }\n",
              "\n",
              "    .dataframe tbody tr th {\n",
              "        vertical-align: top;\n",
              "    }\n",
              "\n",
              "    .dataframe thead th {\n",
              "        text-align: right;\n",
              "    }\n",
              "</style>\n",
              "<table border=\"1\" class=\"dataframe\">\n",
              "  <thead>\n",
              "    <tr style=\"text-align: right;\">\n",
              "      <th></th>\n",
              "      <th>Sales</th>\n",
              "      <th>Customers</th>\n",
              "    </tr>\n",
              "    <tr>\n",
              "      <th>StoreType</th>\n",
              "      <th></th>\n",
              "      <th></th>\n",
              "    </tr>\n",
              "  </thead>\n",
              "  <tbody>\n",
              "    <tr>\n",
              "      <th>a</th>\n",
              "      <td>6285.0</td>\n",
              "      <td>720.0</td>\n",
              "    </tr>\n",
              "    <tr>\n",
              "      <th>b</th>\n",
              "      <td>9130.0</td>\n",
              "      <td>1839.5</td>\n",
              "    </tr>\n",
              "    <tr>\n",
              "      <th>c</th>\n",
              "      <td>6408.0</td>\n",
              "      <td>756.0</td>\n",
              "    </tr>\n",
              "    <tr>\n",
              "      <th>d</th>\n",
              "      <td>6395.0</td>\n",
              "      <td>577.0</td>\n",
              "    </tr>\n",
              "  </tbody>\n",
              "</table>\n",
              "</div>"
            ],
            "text/plain": [
              "            Sales  Customers\n",
              "StoreType                   \n",
              "a          6285.0      720.0\n",
              "b          9130.0     1839.5\n",
              "c          6408.0      756.0\n",
              "d          6395.0      577.0"
            ]
          },
          "metadata": {
            "tags": []
          },
          "execution_count": 63
        }
      ]
    },
    {
      "cell_type": "code",
      "metadata": {
        "id": "9OVyy6TQWG-e",
        "colab_type": "code",
        "outputId": "26433a2a-e6fe-4ce5-8c7c-4aaf01694897",
        "colab": {
          "base_uri": "https://localhost:8080/",
          "height": 194
        }
      },
      "source": [
        "store_type_std = master_table.groupby(['StoreType'])['Sales', 'Customers'].std()\n",
        "store_type_std"
      ],
      "execution_count": 0,
      "outputs": [
        {
          "output_type": "execute_result",
          "data": {
            "text/html": [
              "<div>\n",
              "<style scoped>\n",
              "    .dataframe tbody tr th:only-of-type {\n",
              "        vertical-align: middle;\n",
              "    }\n",
              "\n",
              "    .dataframe tbody tr th {\n",
              "        vertical-align: top;\n",
              "    }\n",
              "\n",
              "    .dataframe thead th {\n",
              "        text-align: right;\n",
              "    }\n",
              "</style>\n",
              "<table border=\"1\" class=\"dataframe\">\n",
              "  <thead>\n",
              "    <tr style=\"text-align: right;\">\n",
              "      <th></th>\n",
              "      <th>Sales</th>\n",
              "      <th>Customers</th>\n",
              "    </tr>\n",
              "    <tr>\n",
              "      <th>StoreType</th>\n",
              "      <th></th>\n",
              "      <th></th>\n",
              "    </tr>\n",
              "  </thead>\n",
              "  <tbody>\n",
              "    <tr>\n",
              "      <th>a</th>\n",
              "      <td>3277.351589</td>\n",
              "      <td>387.516543</td>\n",
              "    </tr>\n",
              "    <tr>\n",
              "      <th>b</th>\n",
              "      <td>5155.729868</td>\n",
              "      <td>910.687095</td>\n",
              "    </tr>\n",
              "    <tr>\n",
              "      <th>c</th>\n",
              "      <td>2896.958579</td>\n",
              "      <td>329.670020</td>\n",
              "    </tr>\n",
              "    <tr>\n",
              "      <th>d</th>\n",
              "      <td>2556.401455</td>\n",
              "      <td>199.247092</td>\n",
              "    </tr>\n",
              "  </tbody>\n",
              "</table>\n",
              "</div>"
            ],
            "text/plain": [
              "                 Sales   Customers\n",
              "StoreType                         \n",
              "a          3277.351589  387.516543\n",
              "b          5155.729868  910.687095\n",
              "c          2896.958579  329.670020\n",
              "d          2556.401455  199.247092"
            ]
          },
          "metadata": {
            "tags": []
          },
          "execution_count": 64
        }
      ]
    },
    {
      "cell_type": "code",
      "metadata": {
        "id": "1-qsjJArWG5C",
        "colab_type": "code",
        "colab": {}
      },
      "source": [
        "# Carryout T-Test"
      ],
      "execution_count": 0,
      "outputs": []
    },
    {
      "cell_type": "markdown",
      "metadata": {
        "id": "L2pkUvNI0Scr",
        "colab_type": "text"
      },
      "source": [
        "### Competition\n",
        "- Competition Distance\n",
        "- Competition Since"
      ]
    },
    {
      "cell_type": "code",
      "metadata": {
        "id": "wwlWhquL7S0g",
        "colab_type": "code",
        "outputId": "fddd72d4-945d-4ad1-cd5a-83970d7cb0d8",
        "colab": {
          "base_uri": "https://localhost:8080/",
          "height": 297
        }
      },
      "source": [
        "master_table.plot(kind='scatter',x='CompetitionDistance',y='Sales',figsize=(15,4))"
      ],
      "execution_count": 0,
      "outputs": [
        {
          "output_type": "execute_result",
          "data": {
            "text/plain": [
              "<matplotlib.axes._subplots.AxesSubplot at 0x7fe27a08cac8>"
            ]
          },
          "metadata": {
            "tags": []
          },
          "execution_count": 66
        },
        {
          "output_type": "display_data",
          "data": {
            "image/png": "[encoded data removed]",
            "text/plain": [
              "<Figure size 1080x288 with 1 Axes>"
            ]
          },
          "metadata": {
            "tags": []
          }
        }
      ]
    },
    {
      "cell_type": "code",
      "metadata": {
        "id": "5iZGOWz7vrJO",
        "colab_type": "code",
        "outputId": "a9e9e533-82b6-40ca-fd02-2ca10f4198e6",
        "colab": {
          "base_uri": "https://localhost:8080/",
          "height": 313
        }
      },
      "source": [
        "ax = sns.distplot(master_table.CompetitionDistance);\n",
        "ax.set_title('Competition Distance Histogram')"
      ],
      "execution_count": 0,
      "outputs": [
        {
          "output_type": "execute_result",
          "data": {
            "text/plain": [
              "Text(0.5, 1.0, 'Competition Distance Histogram')"
            ]
          },
          "metadata": {
            "tags": []
          },
          "execution_count": 67
        },
        {
          "output_type": "display_data",
          "data": {
            "image/png": "[encoded data removed]",
            "text/plain": [
              "<Figure size 432x288 with 1 Axes>"
            ]
          },
          "metadata": {
            "tags": []
          }
        }
      ]
    },
    {
      "cell_type": "code",
      "metadata": {
        "id": "dfh6cFYexcmP",
        "colab_type": "code",
        "outputId": "2563d09e-a2ba-46cb-f2cf-9247bf9c6449",
        "colab": {
          "base_uri": "https://localhost:8080/",
          "height": 223
        }
      },
      "source": [
        "bins = [0,1000,5000,10000,25000,90000]\n",
        "master_table['compdist_bucket'] = pd.cut(master_table['CompetitionDistance'], bins)\n",
        "master_table['compdist_bucket'] = master_table['compdist_bucket'].astype(str)\n",
        "comp_dist_pivot = master_table.pivot_table(index=['compdist_bucket'],values=[\"Sales\", \"Customers\"], aggfunc='mean', fill_value=0)\n",
        "comp_dist_pivot_count = master_table.pivot_table(index=['compdist_bucket'],values=['Sales'], aggfunc='count', fill_value=0)\n",
        "comp_dist_pivot_count.columns = ['Count']\n",
        "comp_dist_pivot_count"
      ],
      "execution_count": 0,
      "outputs": [
        {
          "output_type": "execute_result",
          "data": {
            "text/html": [
              "<div>\n",
              "<style scoped>\n",
              "    .dataframe tbody tr th:only-of-type {\n",
              "        vertical-align: middle;\n",
              "    }\n",
              "\n",
              "    .dataframe tbody tr th {\n",
              "        vertical-align: top;\n",
              "    }\n",
              "\n",
              "    .dataframe thead th {\n",
              "        text-align: right;\n",
              "    }\n",
              "</style>\n",
              "<table border=\"1\" class=\"dataframe\">\n",
              "  <thead>\n",
              "    <tr style=\"text-align: right;\">\n",
              "      <th></th>\n",
              "      <th>Count</th>\n",
              "    </tr>\n",
              "    <tr>\n",
              "      <th>compdist_bucket</th>\n",
              "      <th></th>\n",
              "    </tr>\n",
              "  </thead>\n",
              "  <tbody>\n",
              "    <tr>\n",
              "      <th>(0, 1000]</th>\n",
              "      <td>250931</td>\n",
              "    </tr>\n",
              "    <tr>\n",
              "      <th>(1000, 5000]</th>\n",
              "      <td>328892</td>\n",
              "    </tr>\n",
              "    <tr>\n",
              "      <th>(10000, 25000]</th>\n",
              "      <td>117063</td>\n",
              "    </tr>\n",
              "    <tr>\n",
              "      <th>(25000, 90000]</th>\n",
              "      <td>25542</td>\n",
              "    </tr>\n",
              "    <tr>\n",
              "      <th>(5000, 10000]</th>\n",
              "      <td>121910</td>\n",
              "    </tr>\n",
              "  </tbody>\n",
              "</table>\n",
              "</div>"
            ],
            "text/plain": [
              "                  Count\n",
              "compdist_bucket        \n",
              "(0, 1000]        250931\n",
              "(1000, 5000]     328892\n",
              "(10000, 25000]   117063\n",
              "(25000, 90000]    25542\n",
              "(5000, 10000]    121910"
            ]
          },
          "metadata": {
            "tags": []
          },
          "execution_count": 68
        }
      ]
    },
    {
      "cell_type": "code",
      "metadata": {
        "id": "a3g1qHKG6NWP",
        "colab_type": "code",
        "outputId": "94365d2f-194d-421f-fa36-eeceda5cfdac",
        "colab": {
          "base_uri": "https://localhost:8080/",
          "height": 223
        }
      },
      "source": [
        "comp_dist_pivot"
      ],
      "execution_count": 0,
      "outputs": [
        {
          "output_type": "execute_result",
          "data": {
            "text/html": [
              "<div>\n",
              "<style scoped>\n",
              "    .dataframe tbody tr th:only-of-type {\n",
              "        vertical-align: middle;\n",
              "    }\n",
              "\n",
              "    .dataframe tbody tr th {\n",
              "        vertical-align: top;\n",
              "    }\n",
              "\n",
              "    .dataframe thead th {\n",
              "        text-align: right;\n",
              "    }\n",
              "</style>\n",
              "<table border=\"1\" class=\"dataframe\">\n",
              "  <thead>\n",
              "    <tr style=\"text-align: right;\">\n",
              "      <th></th>\n",
              "      <th>Customers</th>\n",
              "      <th>Sales</th>\n",
              "    </tr>\n",
              "    <tr>\n",
              "      <th>compdist_bucket</th>\n",
              "      <th></th>\n",
              "      <th></th>\n",
              "    </tr>\n",
              "  </thead>\n",
              "  <tbody>\n",
              "    <tr>\n",
              "      <th>(0, 1000]</th>\n",
              "      <td>924.675345</td>\n",
              "      <td>7302.468962</td>\n",
              "    </tr>\n",
              "    <tr>\n",
              "      <th>(1000, 5000]</th>\n",
              "      <td>733.092176</td>\n",
              "      <td>6827.418000</td>\n",
              "    </tr>\n",
              "    <tr>\n",
              "      <th>(10000, 25000]</th>\n",
              "      <td>658.524649</td>\n",
              "      <td>6940.531603</td>\n",
              "    </tr>\n",
              "    <tr>\n",
              "      <th>(25000, 90000]</th>\n",
              "      <td>666.486297</td>\n",
              "      <td>6295.769282</td>\n",
              "    </tr>\n",
              "    <tr>\n",
              "      <th>(5000, 10000]</th>\n",
              "      <td>629.904208</td>\n",
              "      <td>6742.643204</td>\n",
              "    </tr>\n",
              "  </tbody>\n",
              "</table>\n",
              "</div>"
            ],
            "text/plain": [
              "                  Customers        Sales\n",
              "compdist_bucket                         \n",
              "(0, 1000]        924.675345  7302.468962\n",
              "(1000, 5000]     733.092176  6827.418000\n",
              "(10000, 25000]   658.524649  6940.531603\n",
              "(25000, 90000]   666.486297  6295.769282\n",
              "(5000, 10000]    629.904208  6742.643204"
            ]
          },
          "metadata": {
            "tags": []
          },
          "execution_count": 69
        }
      ]
    },
    {
      "cell_type": "code",
      "metadata": {
        "id": "xXYKfz6D2O_0",
        "colab_type": "code",
        "outputId": "f8d0f7dd-6d58-461d-ff24-9c68c488f548",
        "colab": {
          "base_uri": "https://localhost:8080/",
          "height": 438
        }
      },
      "source": [
        "f = sns.catplot(x = 'compdist_bucket', y = 'Sales', data = master_table, kind = 'point', order = [\"(0, 1000]\", \"(1000, 5000]\", \"(5000, 10000]\", \"(10000, 25000]\", \"(25000, 90000]\"])\n",
        "f.set_xticklabels(rotation=45)\n",
        "f.set_xlabels(label = 'Competition Distance')"
      ],
      "execution_count": 0,
      "outputs": [
        {
          "output_type": "execute_result",
          "data": {
            "text/plain": [
              "<seaborn.axisgrid.FacetGrid at 0x7fe27c24a780>"
            ]
          },
          "metadata": {
            "tags": []
          },
          "execution_count": 70
        },
        {
          "output_type": "display_data",
          "data": {
            "image/png": "[encoded data removed]",
            "text/plain": [
              "<Figure size 360x360 with 1 Axes>"
            ]
          },
          "metadata": {
            "tags": []
          }
        }
      ]
    },
    {
      "cell_type": "markdown",
      "metadata": {
        "id": "Co3iLS-658ON",
        "colab_type": "text"
      },
      "source": [
        "Lesser competition distance seems to be accompanied by higher average sales. It could be happening because of customers shopping at the Competition Stores also shopped at the client's stores."
      ]
    },
    {
      "cell_type": "code",
      "metadata": {
        "id": "_p2sWKY_Wo32",
        "colab_type": "code",
        "outputId": "72bf06a1-9e0f-414e-d042-8076b043e14c",
        "colab": {
          "base_uri": "https://localhost:8080/",
          "height": 780
        }
      },
      "source": [
        "t = sns.catplot(data = master_table, kind = 'point', x = 'compdist_bucket', y = \"Sales\", \n",
        "               col = 'Promo', \n",
        "               row = 'Promo2', order = [\"(0, 1000]\", \"(1000, 5000]\", \"(5000, 10000]\", \"(10000, 25000]\", \"(25000, 90000]\"]);\n",
        "for axes in t.axes.flat:\n",
        "    axes.set_xticklabels(axes.get_xticklabels(), rotation=45)\n",
        "t.set_xlabels(label = 'Competition Distance');"
      ],
      "execution_count": 0,
      "outputs": [
        {
          "output_type": "display_data",
          "data": {
            "image/png": "[encoded data removed]",
            "text/plain": [
              "<Figure size 720x720 with 4 Axes>"
            ]
          },
          "metadata": {
            "tags": []
          }
        }
      ]
    },
    {
      "cell_type": "markdown",
      "metadata": {
        "id": "pAx44hTN6JYf",
        "colab_type": "text"
      },
      "source": [
        "Our previous observation about stores with Promo having higher average sales persist. Also, stores where competition distance is less seem to be having higher average sales, except the instances where consicutive promotions were executed.  \n"
      ]
    },
    {
      "cell_type": "markdown",
      "metadata": {
        "id": "Bd5UgCWC0rQK",
        "colab_type": "text"
      },
      "source": [
        "## Future Scope\n"
      ]
    },
    {
      "cell_type": "markdown",
      "metadata": {
        "id": "WbT4lo4aA-IB",
        "colab_type": "text"
      },
      "source": [
        "- Analyse further with any remaining factors from the dataset.\n",
        "- Forecsating for the test dataset."
      ]
    }
  ]
}